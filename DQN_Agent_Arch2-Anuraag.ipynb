{
 "cells": [
  {
   "cell_type": "markdown",
   "metadata": {},
   "source": [
    "### Cab-Driver Agent"
   ]
  },
  {
   "cell_type": "code",
   "execution_count": 1,
   "metadata": {},
   "outputs": [
    {
     "name": "stderr",
     "output_type": "stream",
     "text": [
      "/anaconda3/lib/python3.6/site-packages/h5py/__init__.py:36: FutureWarning: Conversion of the second argument of issubdtype from `float` to `np.floating` is deprecated. In future, it will be treated as `np.float64 == np.dtype(float).type`.\n",
      "  from ._conv import register_converters as _register_converters\n",
      "Using TensorFlow backend.\n"
     ]
    }
   ],
   "source": [
    "# Importing libraries\n",
    "import numpy as np\n",
    "import random\n",
    "import math\n",
    "from collections import deque\n",
    "import collections\n",
    "import pickle\n",
    "import pylab\n",
    "\n",
    "# for building DQN model\n",
    "from keras import layers\n",
    "from keras import Sequential\n",
    "from keras.layers import Dense, Activation, Flatten\n",
    "from keras.optimizers import Adam\n",
    "\n",
    "# for plotting graphs\n",
    "import matplotlib.pyplot as plt\n",
    "\n",
    "# Import the environment\n",
    "from Env import CabDriver"
   ]
  },
  {
   "cell_type": "markdown",
   "metadata": {},
   "source": [
    "#### Defining Time Matrix"
   ]
  },
  {
   "cell_type": "code",
   "execution_count": 2,
   "metadata": {},
   "outputs": [],
   "source": [
    "# Loading the time matrix provided\n",
    "Time_matrix = np.load(\"TM.npy\")"
   ]
  },
  {
   "cell_type": "markdown",
   "metadata": {},
   "source": [
    "#### Tracking the state-action pairs for checking convergence\n"
   ]
  },
  {
   "cell_type": "code",
   "execution_count": 3,
   "metadata": {},
   "outputs": [],
   "source": [
    "States_track = {}\n",
    "\n",
    "# Initialise states to be tracked\n",
    "def initialise_tracking_states():\n",
    "    env = CabDriver()\n",
    "    action_space, state_space, _ = env.reset()\n",
    "    states_to_track = random.sample(state_space, k=5)\n",
    "    for state in states_to_track: \n",
    "        States_track[state] = []\n"
   ]
  },
  {
   "cell_type": "code",
   "execution_count": 4,
   "metadata": {},
   "outputs": [
    {
     "data": {
      "text/plain": [
       "{(2, 19, 6): [], (1, 12, 1): [], (1, 7, 4): [], (3, 10, 2): [], (2, 8, 0): []}"
      ]
     },
     "execution_count": 4,
     "metadata": {},
     "output_type": "execute_result"
    }
   ],
   "source": [
    "initialise_tracking_states()\n",
    "States_track"
   ]
  },
  {
   "cell_type": "code",
   "execution_count": null,
   "metadata": {},
   "outputs": [],
   "source": []
  },
  {
   "cell_type": "code",
   "execution_count": 5,
   "metadata": {},
   "outputs": [],
   "source": [
    "#Defining a function to save an object as a pickle file\n",
    "def save_obj(obj, name ):\n",
    "    with open(name + '.pkl', 'wb') as f:\n",
    "        pickle.dump(obj, f, pickle.HIGHEST_PROTOCOL)"
   ]
  },
  {
   "cell_type": "markdown",
   "metadata": {},
   "source": [
    "### Agent Class\n",
    "\n",
    "If you are using this framework, you need to fill the following to complete the following code block:\n",
    "1. State and Action Size\n",
    "2. Hyperparameters\n",
    "3. Create a neural-network model in function 'build_model()'\n",
    "4. Define epsilon-greedy strategy in function 'get_action()'\n",
    "5. Complete the function 'append_sample()'. This function appends the recent experience tuple <state, action, reward, new-state> to the memory\n",
    "6. Complete the 'train_model()' function with following logic:\n",
    "   - If the memory size is greater than mini-batch size, you randomly sample experiences from memory as per the mini-batch size and do the following:\n",
    "      - Initialise your input and output batch for training the model\n",
    "      - Calculate the target Q value for each sample: reward + gamma*max(Q(s'a,))\n",
    "      - Get Q(s', a) values from the last trained model\n",
    "      - Update the input batch as your encoded state-action and output batch as your Q-values\n",
    "      - Then fit your DQN model using the updated input and output batch."
   ]
  },
  {
   "cell_type": "code",
   "execution_count": 6,
   "metadata": {},
   "outputs": [],
   "source": [
    "class DQNAgent:\n",
    "    def __init__(self, state_size, action_size):\n",
    "        # Define size of state and action\n",
    "        self.state_size = state_size\n",
    "        self.action_size = action_size\n",
    "\n",
    "        # Write here: Specify you hyper parameters for the DQN\n",
    "        self.discount_factor = 0.95\n",
    "        self.learning_rate = 0.01      \n",
    "        self.epsilon = 1    # Initialize epsilon at max value\n",
    "        self.epsilon_decay = 0.995\n",
    "        self.epsilon_min = 0.01\n",
    "        self.batch_size = 32        \n",
    "        # create replay memory using deque\n",
    "        self.memory = deque(maxlen=2000)\n",
    "\n",
    "        # create main model and target model\n",
    "        self.model = self.build_model()\n",
    "\n",
    "\n",
    "    # approximate Q function using Neural Network\n",
    "    def build_model(self):\n",
    "        model = Sequential()\n",
    "        \n",
    "        # Write your code here: Add layers to your neural nets       \n",
    "        model.add(Dense(32, input_dim=self.state_size, activation='relu', kernel_initializer='he_uniform'))\n",
    "        model.add(Dense(32, activation='relu', kernel_initializer='he_uniform'))\n",
    "        model.add(Dense(self.action_size, activation='linear', kernel_initializer='he_uniform'))\n",
    "        \n",
    "        model.compile(loss='mse',optimizer=Adam(lr=self.learning_rate))\n",
    "        return model\n",
    "\n",
    "    def get_action(self, state, env):\n",
    "        # Write your code here:\n",
    "        possible_actions_index, actions = env.requests(state)\n",
    "        # get action from model using epsilon-greedy policy\n",
    "        if np.random.rand() <= self.epsilon:\n",
    "            action = random.choice(actions) #explore\n",
    "        else:\n",
    "            q_value = -1000 #initialize to lowest int value\n",
    "            action = None\n",
    "            for a in actions: \n",
    "                encoded_state = env.state_encod_arch2(state, a)\n",
    "                q_value_from_model = self.model.predict(encoded_state.T)\n",
    "                if (q_value_from_model > q_value):\n",
    "                    q_value = q_value_from_model\n",
    "                    action = a\n",
    "        \n",
    "        return action\n",
    "        \n",
    "        \n",
    "    def append_sample(self, state, action, reward, next_state):\n",
    "        # Write your code here:\n",
    "        # save sample <s,a,r,s'> to the replay memory\n",
    "        self.memory.append((state, action, reward, next_state))           \n",
    "    \n",
    "    # pick samples randomly from replay memory (with batch_size) and train the network\n",
    "    def train_model(self, env):\n",
    "        if len(self.memory) > self.batch_size:\n",
    "            # Sample batch from the memory\n",
    "            mini_batch = random.sample(self.memory, self.batch_size)\n",
    "\n",
    "            update_output = np.zeros((self.batch_size, self.action_size))# write here\n",
    "            update_input = np.zeros((self.batch_size, self.state_size))# write here\n",
    "            \n",
    "            actions, rewards = [], []\n",
    "            \n",
    "            for i in range(self.batch_size):\n",
    "                state, action, reward, next_state = mini_batch[i]                \n",
    "                action_index = env.action_space.index(action)\n",
    "                                          \n",
    "                # Write your code from here\n",
    "                # 1. Predict the target from earlier model\n",
    "                target = self.model.predict(env.state_encod_arch2(state, action).T)\n",
    "                # 2. Get the target for the Q-network\n",
    "                future_q_values = []\n",
    "                for a in env.action_space:\n",
    "                    future_q_values.append( self.model.predict(env.state_encod_arch2(next_state, a).T) )\n",
    "                \n",
    "                #3. Update your 'update_output' and 'update_input' batch. Be careful to use the encoded state-action pair\n",
    "                update_input[i] = env.state_encod_arch2(state, action).flatten()\n",
    "                rewards.append(reward)\n",
    "                actions.append(action)\n",
    "                \n",
    "                # Update the target value according to the update policy of Q-learning\n",
    "                # R_t + γ ∗ max Q_t(S_{t+1},a)−Q_t(S_t,a_t)\n",
    "                # Q Learning: get maximum Q value at s' from target model\n",
    "                update_output[i] = reward + self.discount_factor * (max(future_q_values))\n",
    "                \n",
    "                \n",
    "            # 4. Fit your model and track the loss values\n",
    "            self.model.fit(update_input, update_output, batch_size=self.batch_size, epochs=1, verbose=0)\n",
    "\n",
    "\n",
    "    def save(self, name):\n",
    "        self.model.save_weights(name)"
   ]
  },
  {
   "cell_type": "code",
   "execution_count": 7,
   "metadata": {},
   "outputs": [
    {
     "name": "stdout",
     "output_type": "stream",
     "text": [
      "36\n",
      "(4, 0)\n",
      "16\n"
     ]
    },
    {
     "data": {
      "text/plain": [
       "((0, 13, 2), 6.0)"
      ]
     },
     "execution_count": 7,
     "metadata": {},
     "output_type": "execute_result"
    }
   ],
   "source": [
    "# test code \n",
    "env = CabDriver()\n",
    "_,_,state = env.reset()\n",
    "print(len(env.state_encod_arch1(state)))\n",
    "agent = DQNAgent(len(env.state_encod_arch2(state, tuple((0,0)))), 1)\n",
    "agent.epsilon = 0\n",
    "\n",
    "action = agent.get_action(env.state_init, env)\n",
    "print(action)\n",
    "print(env.action_space.index(action))\n",
    "env.next_state_func(state, action, Time_matrix)"
   ]
  },
  {
   "cell_type": "code",
   "execution_count": 8,
   "metadata": {},
   "outputs": [],
   "source": [
    "Episodes = 1000"
   ]
  },
  {
   "cell_type": "markdown",
   "metadata": {},
   "source": [
    "### DQN block"
   ]
  },
  {
   "cell_type": "code",
   "execution_count": 9,
   "metadata": {},
   "outputs": [
    {
     "name": "stdout",
     "output_type": "stream",
     "text": [
      "episode 0, reward -412.0, memory_length 155, epsilon 0.995\n",
      "episode 25, reward 135.0, memory_length 2000, epsilon 0.8778091417340573\n",
      "episode 50, reward 225.0, memory_length 2000, epsilon 0.7744209942832988\n",
      "episode 75, reward 364.0, memory_length 2000, epsilon 0.6832098777212641\n",
      "episode 100, reward 414.0, memory_length 2000, epsilon 0.6027415843082742\n",
      "episode 125, reward 909.0, memory_length 2000, epsilon 0.531750826943791\n",
      "episode 150, reward 981.0, memory_length 2000, epsilon 0.46912134373457726\n",
      "episode 175, reward 835.0, memory_length 2000, epsilon 0.41386834584198684\n",
      "episode 200, reward 1195.0, memory_length 2000, epsilon 0.36512303261753626\n",
      "episode 225, reward 1364.0, memory_length 2000, epsilon 0.322118930542046\n",
      "episode 250, reward 1065.0, memory_length 2000, epsilon 0.28417984116121187\n",
      "episode 275, reward 1353.0, memory_length 2000, epsilon 0.2507092085103961\n",
      "episode 300, reward 1152.0, memory_length 2000, epsilon 0.2211807388415433\n",
      "episode 325, reward 1399.0, memory_length 2000, epsilon 0.19513012515638165\n",
      "episode 350, reward 1533.0, memory_length 2000, epsilon 0.17214774642209296\n",
      "episode 375, reward 1489.0, memory_length 2000, epsilon 0.1518722266715875\n",
      "episode 400, reward 1569.0, memory_length 2000, epsilon 0.13398475271138335\n",
      "episode 425, reward 1498.0, memory_length 2000, epsilon 0.11820406108847166\n",
      "episode 450, reward 1448.0, memory_length 2000, epsilon 0.1042820154910064\n",
      "episode 475, reward 1511.0, memory_length 2000, epsilon 0.09199970504166631\n",
      "episode 500, reward 1401.0, memory_length 2000, epsilon 0.0811640021330769\n",
      "episode 525, reward 1330.0, memory_length 2000, epsilon 0.0716045256805401\n",
      "episode 550, reward 1710.0, memory_length 2000, epsilon 0.06317096204211972\n",
      "episode 575, reward 1565.0, memory_length 2000, epsilon 0.05573070148010834\n",
      "episode 600, reward 1557.0, memory_length 2000, epsilon 0.04916675299948831\n",
      "episode 625, reward 1591.0, memory_length 2000, epsilon 0.043375904776212296\n",
      "episode 650, reward 1767.0, memory_length 2000, epsilon 0.03826710124979409\n",
      "episode 675, reward 1716.0, memory_length 2000, epsilon 0.033760011361539714\n",
      "episode 700, reward 1799.0, memory_length 2000, epsilon 0.029783765425331846\n",
      "episode 725, reward 1738.0, memory_length 2000, epsilon 0.026275840769466357\n",
      "episode 750, reward 1647.0, memory_length 2000, epsilon 0.023181078627322618\n",
      "episode 775, reward 1699.0, memory_length 2000, epsilon 0.020450816818411825\n",
      "episode 800, reward 1844.0, memory_length 2000, epsilon 0.018042124582040707\n",
      "episode 825, reward 2014.0, memory_length 2000, epsilon 0.015917127532080494\n",
      "episode 850, reward 1762.0, memory_length 2000, epsilon 0.014042412118399107\n",
      "episode 875, reward 1773.0, memory_length 2000, epsilon 0.012388500230681249\n",
      "episode 900, reward 1930.0, memory_length 2000, epsilon 0.010929385683282892\n",
      "episode 925, reward 2015.0, memory_length 2000, epsilon 0.01\n",
      "episode 950, reward 1935.0, memory_length 2000, epsilon 0.01\n",
      "episode 975, reward 1728.0, memory_length 2000, epsilon 0.01\n"
     ]
    },
    {
     "data": {
      "text/plain": [
       "[<matplotlib.lines.Line2D at 0xb1f73d048>]"
      ]
     },
     "execution_count": 9,
     "metadata": {},
     "output_type": "execute_result"
    },
    {
     "data": {
      "image/png": "[encoded data removed]",
      "text/plain": [
       "<matplotlib.figure.Figure at 0xb1f3607f0>"
      ]
     },
     "metadata": {},
     "output_type": "display_data"
    }
   ],
   "source": [
    "env = CabDriver()\n",
    "action_space, state_space, state = env.reset()\n",
    "state_size = len(env.state_encod_arch2(state, tuple((0,0))))\n",
    "agent = DQNAgent(state_size, 1)\n",
    "scores, episodes = [], []\n",
    "\n",
    "\n",
    "for episode in range(Episodes):\n",
    "\n",
    "    # Write code here\n",
    "    # Call the environment\n",
    "    env = CabDriver()\n",
    "    _, _, state = env.reset()\n",
    "    # Call all the initialised variables of the environment\n",
    "    terminal_state = False\n",
    "    hours_run = 0\n",
    "    total_reward = 0\n",
    "\n",
    "    # Call the DQN agent\n",
    "    # Every episode lasts 30 days\n",
    "    while not terminal_state:        \n",
    "        # Write your code here\n",
    "        # 1. Pick epsilon-greedy action from possible actions for the current state\n",
    "        action = agent.get_action(state, env)\n",
    "        # 2. Evaluate your reward and next state\n",
    "        reward = env.reward_func(state, action, Time_matrix)\n",
    "        next_state, trip_hours = env.next_state_func(state, action, Time_matrix)\n",
    "        # 3. Append the experience to the memory\n",
    "        agent.append_sample(state, action, reward, next_state)\n",
    "        # 4. Train the model by calling function agent.train_model\n",
    "        agent.train_model(env)\n",
    "        # 5. Keep a track of rewards, Q-values, loss\n",
    "        total_reward = total_reward + reward\n",
    "        if state in States_track.keys():\n",
    "            States_track[state].append(agent.model.predict(env.state_encod_arch2(state, action).T))\n",
    "\n",
    "        state = next_state\n",
    "        hours_run = hours_run + trip_hours\n",
    "        terminal_state = (hours_run >= 24*30)\n",
    "        \n",
    "    scores.append(total_reward)\n",
    "    episodes.append(episode)\n",
    "\n",
    "    # Decay in ε after each episode       \n",
    "    agent.epsilon = max(agent.epsilon_min, agent.epsilon * agent.epsilon_decay)\n",
    "\n",
    "    #save the model \n",
    "    if episode % 25 == 0:\n",
    "        print(\"episode {0}, reward {1}, memory_length {2}, epsilon {3}\".format(episode,\n",
    "                                                                         total_reward,\n",
    "                                                                         len(agent.memory),\n",
    "                                                                         agent.epsilon))\n",
    "        agent.model.save_weights(\"./dqn_arch2.h5\")\n",
    "\n",
    "        \n",
    "pylab.plot(episodes, scores, 'b')\n"
   ]
  },
  {
   "cell_type": "code",
   "execution_count": null,
   "metadata": {},
   "outputs": [],
   "source": []
  },
  {
   "cell_type": "code",
   "execution_count": null,
   "metadata": {},
   "outputs": [],
   "source": []
  },
  {
   "cell_type": "markdown",
   "metadata": {},
   "source": [
    "### Tracking Convergence"
   ]
  },
  {
   "cell_type": "code",
   "execution_count": 20,
   "metadata": {},
   "outputs": [
    {
     "data": {
      "image/png": "[encoded data removed]",
      "text/plain": [
       "<matplotlib.figure.Figure at 0xb21b9c390>"
      ]
     },
     "metadata": {},
     "output_type": "display_data"
    }
   ],
   "source": [
    "aKey = list(States_track.keys())[0]\n",
    "qvals = States_track[aKey]\n",
    "q = [j[0][0] for j in qvals for i in j]\n",
    "time = range(0, len(q))\n",
    "plt.plot(time, q)\n",
    "plt.show()"
   ]
  },
  {
   "cell_type": "code",
   "execution_count": null,
   "metadata": {},
   "outputs": [],
   "source": []
  },
  {
   "cell_type": "markdown",
   "metadata": {},
   "source": [
    "#### Epsilon-decay sample function"
   ]
  },
  {
   "cell_type": "markdown",
   "metadata": {},
   "source": [
    "<div class=\"alert alert-block alert-info\">\n",
    "Try building a similar epsilon-decay function for your model.\n",
    "</div>"
   ]
  },
  {
   "cell_type": "code",
   "execution_count": 22,
   "metadata": {},
   "outputs": [],
   "source": [
    "time = np.arange(0,2000)\n",
    "epsilon = [1.0]\n",
    "for i in range(1,2000):\n",
    "    epsilon.append(epsilon[i-1]*0.995)"
   ]
  },
  {
   "cell_type": "code",
   "execution_count": 23,
   "metadata": {
    "scrolled": true
   },
   "outputs": [
    {
     "data": {
      "image/png": "[encoded data removed]",
      "text/plain": [
       "<matplotlib.figure.Figure at 0xb21b8e860>"
      ]
     },
     "metadata": {},
     "output_type": "display_data"
    }
   ],
   "source": [
    "plt.plot(time, epsilon)\n",
    "plt.show()"
   ]
  },
  {
   "cell_type": "code",
   "execution_count": null,
   "metadata": {},
   "outputs": [],
   "source": []
  }
 ],
 "metadata": {
  "kernelspec": {
   "display_name": "Python 3",
   "language": "python",
   "name": "python3"
  }
 },
 "nbformat": 4,
 "nbformat_minor": 2
}
