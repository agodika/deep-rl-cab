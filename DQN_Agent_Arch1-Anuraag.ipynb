{
 "cells": [
  {
   "cell_type": "markdown",
   "metadata": {},
   "source": [
    "### Cab-Driver Agent"
   ]
  },
  {
   "cell_type": "code",
   "execution_count": 1,
   "metadata": {},
   "outputs": [
    {
     "name": "stderr",
     "output_type": "stream",
     "text": [
      "/anaconda3/lib/python3.6/site-packages/h5py/__init__.py:36: FutureWarning: Conversion of the second argument of issubdtype from `float` to `np.floating` is deprecated. In future, it will be treated as `np.float64 == np.dtype(float).type`.\n",
      "  from ._conv import register_converters as _register_converters\n",
      "Using TensorFlow backend.\n"
     ]
    }
   ],
   "source": [
    "# Importing libraries\n",
    "import numpy as np\n",
    "import random\n",
    "import math\n",
    "from collections import deque\n",
    "import collections\n",
    "import pickle\n",
    "import pylab\n",
    "\n",
    "# for building DQN model\n",
    "from keras import layers\n",
    "from keras import Sequential\n",
    "from keras.layers import Dense, Activation, Flatten\n",
    "from keras.optimizers import Adam\n",
    "\n",
    "# for plotting graphs\n",
    "import matplotlib.pyplot as plt\n",
    "\n",
    "# Import the environment\n",
    "from Env import CabDriver"
   ]
  },
  {
   "cell_type": "markdown",
   "metadata": {},
   "source": [
    "#### Defining Time Matrix"
   ]
  },
  {
   "cell_type": "code",
   "execution_count": 2,
   "metadata": {},
   "outputs": [],
   "source": [
    "# Loading the time matrix provided\n",
    "Time_matrix = np.load(\"TM.npy\")"
   ]
  },
  {
   "cell_type": "markdown",
   "metadata": {},
   "source": [
    "#### Tracking the state-action pairs for checking convergence\n"
   ]
  },
  {
   "cell_type": "code",
   "execution_count": 3,
   "metadata": {},
   "outputs": [],
   "source": [
    "States_track = {}\n",
    "\n",
    "# Initialise states to be tracked\n",
    "def initialise_tracking_states():\n",
    "    env = CabDriver()\n",
    "    action_space, state_space, _ = env.reset()\n",
    "    states_to_track = random.sample(state_space, k=5)\n",
    "    for state in states_to_track: \n",
    "        States_track[state] = []\n"
   ]
  },
  {
   "cell_type": "code",
   "execution_count": 4,
   "metadata": {},
   "outputs": [
    {
     "data": {
      "text/plain": [
       "{(4, 11, 4): [], (3, 3, 0): [], (4, 22, 4): [], (1, 9, 0): [], (1, 13, 5): []}"
      ]
     },
     "execution_count": 4,
     "metadata": {},
     "output_type": "execute_result"
    }
   ],
   "source": [
    "initialise_tracking_states()\n",
    "States_track"
   ]
  },
  {
   "cell_type": "code",
   "execution_count": null,
   "metadata": {},
   "outputs": [],
   "source": []
  },
  {
   "cell_type": "code",
   "execution_count": 5,
   "metadata": {},
   "outputs": [],
   "source": [
    "#Defining a function to save the Q-dictionary as a pickle file\n",
    "def save_obj(obj, name ):\n",
    "    with open(name + '.pkl', 'wb') as f:\n",
    "        pickle.dump(obj, f, pickle.HIGHEST_PROTOCOL)"
   ]
  },
  {
   "cell_type": "markdown",
   "metadata": {},
   "source": [
    "### Agent Class\n",
    "\n",
    "If you are using this framework, you need to fill the following to complete the following code block:\n",
    "1. State and Action Size\n",
    "2. Hyperparameters\n",
    "3. Create a neural-network model in function 'build_model()'\n",
    "4. Define epsilon-greedy strategy in function 'get_action()'\n",
    "5. Complete the function 'append_sample()'. This function appends the recent experience tuple <state, action, reward, new-state> to the memory\n",
    "6. Complete the 'train_model()' function with following logic:\n",
    "   - If the memory size is greater than mini-batch size, you randomly sample experiences from memory as per the mini-batch size and do the following:\n",
    "      - Initialise your input and output batch for training the model\n",
    "      - Calculate the target Q value for each sample: reward + gamma*max(Q(s'a,))\n",
    "      - Get Q(s', a) values from the last trained model\n",
    "      - Update the input batch as your encoded state and output batch as your Q-values\n",
    "      - Then fit your DQN model using the updated input and output batch."
   ]
  },
  {
   "cell_type": "code",
   "execution_count": 6,
   "metadata": {},
   "outputs": [],
   "source": [
    "class DQNAgent:\n",
    "    def __init__(self, state_size, action_size):\n",
    "        # Define size of state and action\n",
    "        self.state_size = state_size\n",
    "        self.action_size = action_size\n",
    "\n",
    "        # Write here: Specify you hyper parameters for the DQN\n",
    "        self.discount_factor = 0.95\n",
    "        self.learning_rate = 0.01      \n",
    "        self.epsilon = 1 #start at max value of epsilon\n",
    "        self.epsilon_decay = 0.998\n",
    "        self.epsilon_min = 0.01\n",
    "        self.batch_size = 32        \n",
    "        # create replay memory using deque\n",
    "        self.memory = deque(maxlen=2000)\n",
    "\n",
    "        # create main model and target model\n",
    "        self.model = self.build_model()\n",
    "\n",
    "    # approximate Q function using Neural Network\n",
    "    def build_model(self):\n",
    "        model = Sequential()\n",
    "        # Write your code here: Add layers to your neural nets       \n",
    "        model.add(Dense(32, input_dim=self.state_size, activation='relu', kernel_initializer='he_uniform'))\n",
    "        model.add(Dense(32, activation='relu', kernel_initializer='he_uniform'))\n",
    "        model.add(Dense(self.action_size, activation='linear', kernel_initializer='he_uniform'))\n",
    "                \n",
    "        model.compile(loss='mse',optimizer=Adam(lr=self.learning_rate))\n",
    "        print(model.summary)\n",
    "        return model\n",
    "\n",
    "\n",
    "    def get_action(self, state, env):\n",
    "        # Write your code here:\n",
    "        possible_actions_index, actions = env.requests(state)\n",
    "        # get action from model using epsilon-greedy policy\n",
    "        if np.random.rand() <= self.epsilon:\n",
    "            action = random.choice(actions) #explore\n",
    "        else:\n",
    "            encoded_state = env.state_encod_arch1(state)\n",
    "            q_values = self.model.predict(encoded_state.T)\n",
    "            # Out of all the q_values we need to pick the action from possible_actions with max q_value\n",
    "            favorable_action_index = possible_actions_index[np.argmax(q_values[0][possible_actions_index])]\n",
    "            action = env.action_space[favorable_action_index]\n",
    "        \n",
    "        return action\n",
    "        \n",
    "        \n",
    "    def append_sample(self, state, action, reward, next_state):\n",
    "        # Write your code here:\n",
    "        # save sample <s,a,r,s'> to the replay memory\n",
    "        self.memory.append((state, action, reward, next_state))           \n",
    "    \n",
    "        \n",
    "    # pick samples randomly from replay memory (with batch_size) and train the network\n",
    "    def train_model(self, env):\n",
    "        \n",
    "        if len(self.memory) > self.batch_size:\n",
    "            # Sample batch from the memory\n",
    "            mini_batch = random.sample(self.memory, self.batch_size)\n",
    "            \n",
    "            # Initialize variables for storing s, s', a and r\n",
    "            update_output = np.zeros((self.batch_size, self.action_size)) # write here\n",
    "            update_input = np.zeros((self.batch_size, self.state_size)) # write here\n",
    "            \n",
    "            actions, rewards = [], []\n",
    "            \n",
    "            for i in range(self.batch_size):\n",
    "                state, action, reward, next_state = mini_batch[i]                \n",
    "                action_index = env.action_space.index(action)\n",
    "                \n",
    "                # 1. Predict the target from earlier model\n",
    "                target = self.model.predict(env.state_encod_arch1(state).T)\n",
    "                # 2. Get the target for the Q-network\n",
    "                future_q_values = self.model.predict(env.state_encod_arch1(next_state).T)\n",
    "                                \n",
    "                #3. Update your 'update_output' and 'update_input' batch\n",
    "                update_input[i] = env.state_encod_arch1(state).flatten()\n",
    "                rewards.append(reward)\n",
    "                actions.append(action)\n",
    "                update_output[i] = target\n",
    "                \n",
    "                # Update the target value according to the update policy of Q-learning\n",
    "                # R_t + γ ∗ max Q_t(S_{t+1},a)−Q_t(S_t,a_t)\n",
    "                # Q Learning: get maximum Q value at s' from target model\n",
    "                update_output[i][action_index] = reward + self.discount_factor * np.amax(future_q_values)\n",
    "\n",
    "            # 4. Fit your model and track the loss values\n",
    "            self.model.fit(update_input, update_output, batch_size=self.batch_size,\n",
    "                           epochs=1, verbose=0)\n",
    "\n",
    "                \n",
    "                \n",
    "    def save(self, name):\n",
    "        self.model.save(name)"
   ]
  },
  {
   "cell_type": "code",
   "execution_count": 7,
   "metadata": {},
   "outputs": [
    {
     "name": "stdout",
     "output_type": "stream",
     "text": [
      "36\n",
      "<bound method Network.summary of <keras.engine.sequential.Sequential object at 0xb23084d68>>\n",
      "(2, 0)\n",
      "8\n"
     ]
    },
    {
     "data": {
      "text/plain": [
       "((0, 16, 1), 9.0)"
      ]
     },
     "execution_count": 7,
     "metadata": {},
     "output_type": "execute_result"
    }
   ],
   "source": [
    "# test code \n",
    "env = CabDriver()\n",
    "_,_,state = env.reset()\n",
    "print(len(env.state_encod_arch1(state)))\n",
    "agent = DQNAgent(len(env.state_encod_arch1(state)), len(env.action_space))\n",
    "agent.epsilon = 1.10\n",
    "\n",
    "action = agent.get_action(env.state_init, env)\n",
    "print(action)\n",
    "print(env.action_space.index(action))\n",
    "env.next_state_func(state, action, Time_matrix)"
   ]
  },
  {
   "cell_type": "code",
   "execution_count": 8,
   "metadata": {},
   "outputs": [],
   "source": [
    "Episodes = 6000"
   ]
  },
  {
   "cell_type": "markdown",
   "metadata": {},
   "source": [
    "### DQN block"
   ]
  },
  {
   "cell_type": "code",
   "execution_count": 9,
   "metadata": {
    "scrolled": false
   },
   "outputs": [
    {
     "name": "stdout",
     "output_type": "stream",
     "text": [
      "<bound method Network.summary of <keras.engine.sequential.Sequential object at 0xb23159908>>\n",
      "episode 0, reward -405.0, memory_length 148, epsilon 1.0\n",
      "episode 25, reward -325.0, memory_length 2000, epsilon 0.9777512371933363\n",
      "episode 50, reward -50.0, memory_length 2000, epsilon 0.9559974818331\n",
      "episode 75, reward -195.0, memory_length 2000, epsilon 0.9347277206160275\n",
      "episode 100, reward -243.0, memory_length 2000, epsilon 0.9139311852712282\n",
      "episode 125, reward 63.0, memory_length 2000, epsilon 0.8935973471085157\n",
      "episode 150, reward -153.0, memory_length 2000, epsilon 0.8737159116880344\n",
      "episode 175, reward -316.0, memory_length 2000, epsilon 0.8542768136084795\n",
      "episode 200, reward -25.0, memory_length 2000, epsilon 0.835270211411272\n",
      "episode 225, reward -78.0, memory_length 2000, epsilon 0.8166864825981108\n",
      "episode 250, reward 313.0, memory_length 2000, epsilon 0.7985162187593771\n",
      "episode 275, reward 22.0, memory_length 2000, epsilon 0.7807502208109257\n",
      "episode 300, reward 444.0, memory_length 2000, epsilon 0.7633794943368531\n",
      "episode 325, reward 184.0, memory_length 2000, epsilon 0.7463952450358817\n",
      "episode 350, reward 193.0, memory_length 2000, epsilon 0.7297888742690568\n",
      "episode 375, reward 310.0, memory_length 2000, epsilon 0.7135519747065026\n",
      "episode 400, reward 549.0, memory_length 2000, epsilon 0.697676326071031\n",
      "episode 425, reward 417.0, memory_length 2000, epsilon 0.6821538909764522\n",
      "episode 450, reward 177.0, memory_length 2000, epsilon 0.6669768108584744\n",
      "episode 475, reward 441.0, memory_length 2000, epsilon 0.6521374019961392\n",
      "episode 500, reward 294.0, memory_length 2000, epsilon 0.6376281516217733\n",
      "episode 525, reward 562.0, memory_length 2000, epsilon 0.6234417141174892\n",
      "episode 550, reward 756.0, memory_length 2000, epsilon 0.6095709072963093\n",
      "episode 575, reward 652.0, memory_length 2000, epsilon 0.596008708766031\n",
      "episode 600, reward 258.0, memory_length 2000, epsilon 0.5827482523739896\n",
      "episode 625, reward 794.0, memory_length 2000, epsilon 0.569782824730923\n",
      "episode 650, reward 681.0, memory_length 2000, epsilon 0.5571058618121739\n",
      "episode 675, reward 840.0, memory_length 2000, epsilon 0.5447109456345129\n",
      "episode 700, reward 742.0, memory_length 2000, epsilon 0.5325918010068972\n",
      "episode 725, reward 589.0, memory_length 2000, epsilon 0.520742292353521\n",
      "episode 750, reward 882.0, memory_length 2000, epsilon 0.5091564206075492\n",
      "episode 775, reward 917.0, memory_length 2000, epsilon 0.49782832017396195\n",
      "episode 800, reward 873.0, memory_length 2000, epsilon 0.4867522559599717\n",
      "episode 825, reward 841.0, memory_length 2000, epsilon 0.47592262047150985\n",
      "episode 850, reward 801.0, memory_length 2000, epsilon 0.4653339309743134\n",
      "episode 875, reward 677.0, memory_length 2000, epsilon 0.4549808267181735\n",
      "episode 900, reward 833.0, memory_length 2000, epsilon 0.44485806622294116\n",
      "episode 925, reward 733.0, memory_length 2000, epsilon 0.43496052462491586\n",
      "episode 950, reward 1106.0, memory_length 2000, epsilon 0.42528319108227414\n",
      "episode 975, reward 1023.0, memory_length 2000, epsilon 0.4158211662382236\n",
      "episode 1000, reward 1102.0, memory_length 2000, epsilon 0.4065696597405991\n",
      "episode 1025, reward 956.0, memory_length 2000, epsilon 0.3975239878166446\n",
      "episode 1050, reward 1186.0, memory_length 2000, epsilon 0.38867957090175304\n",
      "episode 1075, reward 1249.0, memory_length 2000, epsilon 0.3800319313209641\n",
      "episode 1100, reward 769.0, memory_length 2000, epsilon 0.3715766910220457\n",
      "episode 1125, reward 923.0, memory_length 2000, epsilon 0.36330956935901126\n",
      "episode 1150, reward 1234.0, memory_length 2000, epsilon 0.3552263809249515\n",
      "episode 1175, reward 1242.0, memory_length 2000, epsilon 0.34732303343308274\n",
      "episode 1200, reward 1152.0, memory_length 2000, epsilon 0.3395955256449391\n",
      "episode 1225, reward 1246.0, memory_length 2000, epsilon 0.33203994534466064\n",
      "episode 1250, reward 1097.0, memory_length 2000, epsilon 0.32465246735834974\n",
      "episode 1275, reward 1265.0, memory_length 2000, epsilon 0.3174293516174957\n",
      "episode 1300, reward 1056.0, memory_length 2000, epsilon 0.31036694126548503\n",
      "episode 1325, reward 1251.0, memory_length 2000, epsilon 0.30346166080623954\n",
      "episode 1350, reward 1272.0, memory_length 2000, epsilon 0.2967100142940453\n",
      "episode 1375, reward 1291.0, memory_length 2000, epsilon 0.29010858356365526\n",
      "episode 1400, reward 1467.0, memory_length 2000, epsilon 0.2836540264997704\n",
      "episode 1425, reward 1026.0, memory_length 2000, epsilon 0.2773430753450219\n",
      "episode 1450, reward 943.0, memory_length 2000, epsilon 0.2711725350455999\n",
      "episode 1475, reward 1160.0, memory_length 2000, epsilon 0.26513928163368866\n",
      "episode 1500, reward 935.0, memory_length 2000, epsilon 0.25924026064589156\n",
      "episode 1525, reward 1276.0, memory_length 2000, epsilon 0.2534724855768434\n",
      "episode 1550, reward 828.0, memory_length 2000, epsilon 0.24783303636722875\n",
      "episode 1575, reward 1592.0, memory_length 2000, epsilon 0.24231905792543904\n",
      "episode 1600, reward 1560.0, memory_length 2000, epsilon 0.23692775868212176\n",
      "episode 1625, reward 1408.0, memory_length 2000, epsilon 0.23165640917688882\n",
      "episode 1650, reward 1276.0, memory_length 2000, epsilon 0.2265023406764688\n",
      "episode 1675, reward 1401.0, memory_length 2000, epsilon 0.22146294382360387\n",
      "episode 1700, reward 1183.0, memory_length 2000, epsilon 0.21653566731600707\n",
      "episode 1725, reward 1497.0, memory_length 2000, epsilon 0.2117180166147106\n",
      "episode 1750, reward 1323.0, memory_length 2000, epsilon 0.20700755268115265\n",
      "episode 1775, reward 1105.0, memory_length 2000, epsilon 0.20240189074236176\n",
      "episode 1800, reward 1519.0, memory_length 2000, epsilon 0.1978986990836147\n",
      "episode 1825, reward 1559.0, memory_length 2000, epsilon 0.19349569786795606\n",
      "episode 1850, reward 1653.0, memory_length 2000, epsilon 0.18919065798198204\n",
      "episode 1875, reward 1372.0, memory_length 2000, epsilon 0.18498139990730428\n",
      "episode 1900, reward 1186.0, memory_length 2000, epsilon 0.1808657926171221\n",
      "episode 1925, reward 1484.0, memory_length 2000, epsilon 0.17684175249734455\n",
      "episode 1950, reward 1417.0, memory_length 2000, epsilon 0.1729072422917164\n",
      "episode 1975, reward 1290.0, memory_length 2000, epsilon 0.1690602700704137\n",
      "episode 2000, reward 1387.0, memory_length 2000, epsilon 0.16529888822158653\n",
      "episode 2025, reward 1476.0, memory_length 2000, epsilon 0.16162119246533926\n",
      "episode 2050, reward 1480.0, memory_length 2000, epsilon 0.1580253208896478\n",
      "episode 2075, reward 1670.0, memory_length 2000, epsilon 0.15450945300772712\n",
      "episode 2100, reward 1570.0, memory_length 2000, epsilon 0.15107180883637086\n",
      "episode 2125, reward 1337.0, memory_length 2000, epsilon 0.14771064799479683\n",
      "episode 2150, reward 1215.0, memory_length 2000, epsilon 0.14442426882354198\n",
      "episode 2175, reward 1678.0, memory_length 2000, epsilon 0.14121100752296117\n",
      "episode 2200, reward 1403.0, memory_length 2000, epsilon 0.13806923731089282\n",
      "episode 2225, reward 1699.0, memory_length 2000, epsilon 0.1349973675990658\n",
      "episode 2250, reward 1377.0, memory_length 2000, epsilon 0.13199384318783022\n",
      "episode 2275, reward 1386.0, memory_length 2000, epsilon 0.12905714347880423\n",
      "episode 2300, reward 1566.0, memory_length 2000, epsilon 0.12618578170503877\n",
      "episode 2325, reward 1640.0, memory_length 2000, epsilon 0.12337830417830993\n",
      "episode 2350, reward 1755.0, memory_length 2000, epsilon 0.12063328955315832\n",
      "episode 2375, reward 1456.0, memory_length 2000, epsilon 0.11794934810730252\n",
      "episode 2400, reward 1321.0, memory_length 2000, epsilon 0.11532512103806251\n",
      "episode 2425, reward 1431.0, memory_length 2000, epsilon 0.11275927977443688\n",
      "episode 2450, reward 1633.0, memory_length 2000, epsilon 0.11025052530448522\n",
      "episode 2475, reward 1434.0, memory_length 2000, epsilon 0.10779758751767567\n",
      "episode 2500, reward 1726.0, memory_length 2000, epsilon 0.10539922456186433\n",
      "episode 2525, reward 1543.0, memory_length 2000, epsilon 0.10305422221458115\n",
      "episode 2550, reward 1707.0, memory_length 2000, epsilon 0.10076139326830373\n",
      "episode 2575, reward 1534.0, memory_length 2000, epsilon 0.09851957692940828\n",
      "episode 2600, reward 1582.0, memory_length 2000, epsilon 0.09632763823049303\n",
      "episode 2625, reward 1515.0, memory_length 2000, epsilon 0.09418446745577669\n",
      "episode 2650, reward 1497.0, memory_length 2000, epsilon 0.0920889795792812\n",
      "episode 2675, reward 1654.0, memory_length 2000, epsilon 0.09004011371551407\n"
     ]
    },
    {
     "name": "stdout",
     "output_type": "stream",
     "text": [
      "episode 2700, reward 1684.0, memory_length 2000, epsilon 0.08803683258237259\n",
      "episode 2725, reward 1717.0, memory_length 2000, epsilon 0.08607812197599739\n",
      "episode 2750, reward 1786.0, memory_length 2000, epsilon 0.08416299025731036\n",
      "episode 2775, reward 1713.0, memory_length 2000, epsilon 0.08229046784997593\n",
      "episode 2800, reward 1552.0, memory_length 2000, epsilon 0.08045960674953244\n",
      "episode 2825, reward 1707.0, memory_length 2000, epsilon 0.07866948004344465\n",
      "episode 2850, reward 1882.0, memory_length 2000, epsilon 0.0769191814418345\n",
      "episode 2875, reward 1532.0, memory_length 2000, epsilon 0.0752078248186524\n",
      "episode 2900, reward 1507.0, memory_length 2000, epsilon 0.0735345437630571\n",
      "episode 2925, reward 1596.0, memory_length 2000, epsilon 0.07189849114077662\n",
      "episode 2950, reward 1613.0, memory_length 2000, epsilon 0.07029883866522847\n",
      "episode 2975, reward 1604.0, memory_length 2000, epsilon 0.0687347764781819\n",
      "episode 3000, reward 1771.0, memory_length 2000, epsilon 0.06720551273974978\n",
      "episode 3025, reward 1470.0, memory_length 2000, epsilon 0.06571027322750285\n",
      "episode 3050, reward 1815.0, memory_length 2000, epsilon 0.06424830094450308\n",
      "episode 3075, reward 1594.0, memory_length 2000, epsilon 0.0628188557360577\n",
      "episode 3100, reward 1741.0, memory_length 2000, epsilon 0.06142121391500013\n",
      "episode 3125, reward 1825.0, memory_length 2000, epsilon 0.060054667895307945\n",
      "episode 3150, reward 1771.0, memory_length 2000, epsilon 0.058718525833872284\n",
      "episode 3175, reward 1422.0, memory_length 2000, epsilon 0.05741211128023751\n",
      "episode 3200, reward 1817.0, memory_length 2000, epsilon 0.056134762834133725\n",
      "episode 3225, reward 1557.0, memory_length 2000, epsilon 0.05488583381062877\n",
      "episode 3250, reward 1629.0, memory_length 2000, epsilon 0.053664691912730135\n",
      "episode 3275, reward 1575.0, memory_length 2000, epsilon 0.05247071891127112\n",
      "episode 3300, reward 1857.0, memory_length 2000, epsilon 0.051303310331919136\n",
      "episode 3325, reward 1883.0, memory_length 2000, epsilon 0.05016187514914761\n",
      "episode 3350, reward 1763.0, memory_length 2000, epsilon 0.04904583548701673\n",
      "episode 3375, reward 1886.0, memory_length 2000, epsilon 0.04795462632661145\n",
      "episode 3400, reward 1729.0, memory_length 2000, epsilon 0.046887695219988486\n",
      "episode 3425, reward 1990.0, memory_length 2000, epsilon 0.04584450201048783\n",
      "episode 3450, reward 1752.0, memory_length 2000, epsilon 0.04482451855926687\n",
      "episode 3475, reward 1813.0, memory_length 2000, epsilon 0.04382722847791885\n",
      "episode 3500, reward 1536.0, memory_length 2000, epsilon 0.04285212686704019\n",
      "episode 3525, reward 1613.0, memory_length 2000, epsilon 0.04189872006061435\n",
      "episode 3550, reward 2015.0, memory_length 2000, epsilon 0.040966525376082946\n",
      "episode 3575, reward 1701.0, memory_length 2000, epsilon 0.04005507086997731\n",
      "episode 3600, reward 1757.0, memory_length 2000, epsilon 0.03916389509898708\n",
      "episode 3625, reward 1943.0, memory_length 2000, epsilon 0.03829254688634466\n",
      "episode 3650, reward 1725.0, memory_length 2000, epsilon 0.037440585093407336\n",
      "episode 3675, reward 1941.0, memory_length 2000, epsilon 0.036607578396321394\n",
      "episode 3700, reward 1736.0, memory_length 2000, epsilon 0.0357931050676553\n",
      "episode 3725, reward 1922.0, memory_length 2000, epsilon 0.03499675276289105\n",
      "episode 3750, reward 1905.0, memory_length 2000, epsilon 0.03421811831166603\n",
      "episode 3775, reward 1744.0, memory_length 2000, epsilon 0.033456807513659426\n",
      "episode 3800, reward 1521.0, memory_length 2000, epsilon 0.03271243493901982\n",
      "episode 3825, reward 1939.0, memory_length 2000, epsilon 0.03198462373323315\n",
      "episode 3850, reward 1731.0, memory_length 2000, epsilon 0.03127300542633206\n",
      "episode 3875, reward 1454.0, memory_length 2000, epsilon 0.030577219746350096\n",
      "episode 3900, reward 1623.0, memory_length 2000, epsilon 0.02989691443692632\n",
      "episode 3925, reward 1659.0, memory_length 2000, epsilon 0.02923174507896803\n",
      "episode 3950, reward 1579.0, memory_length 2000, epsilon 0.028581374916281214\n",
      "episode 3975, reward 1799.0, memory_length 2000, epsilon 0.02794547468508055\n",
      "episode 4000, reward 1908.0, memory_length 2000, epsilon 0.02732372244729256\n",
      "episode 4025, reward 1539.0, memory_length 2000, epsilon 0.026715803427567637\n",
      "episode 4050, reward 1613.0, memory_length 2000, epsilon 0.026121409853918233\n",
      "episode 4075, reward 1767.0, memory_length 2000, epsilon 0.02554024080190276\n",
      "episode 4100, reward 1622.0, memory_length 2000, epsilon 0.024972002042276155\n",
      "episode 4125, reward 1759.0, memory_length 2000, epsilon 0.024416405892030035\n",
      "episode 4150, reward 1779.0, memory_length 2000, epsilon 0.023873171068747034\n",
      "episode 4175, reward 1881.0, memory_length 2000, epsilon 0.023342022548195576\n",
      "episode 4200, reward 1718.0, memory_length 2000, epsilon 0.02282269142509298\n",
      "episode 4225, reward 1907.0, memory_length 2000, epsilon 0.022314914776966413\n",
      "episode 4250, reward 1841.0, memory_length 2000, epsilon 0.021818435531042773\n",
      "episode 4275, reward 1663.0, memory_length 2000, epsilon 0.021333002334100123\n",
      "episode 4300, reward 1889.0, memory_length 2000, epsilon 0.020858369425214716\n",
      "episode 4325, reward 1408.0, memory_length 2000, epsilon 0.020394296511339352\n",
      "episode 4350, reward 1948.0, memory_length 2000, epsilon 0.019940548645649796\n",
      "episode 4375, reward 1861.0, memory_length 2000, epsilon 0.019496896108597995\n",
      "episode 4400, reward 1903.0, memory_length 2000, epsilon 0.019063114291611637\n",
      "episode 4425, reward 1918.0, memory_length 2000, epsilon 0.01863898358338125\n",
      "episode 4450, reward 1731.0, memory_length 2000, epsilon 0.018224289258677303\n",
      "episode 4475, reward 1776.0, memory_length 2000, epsilon 0.017818821369640966\n",
      "episode 4500, reward 1568.0, memory_length 2000, epsilon 0.017422374639493515\n",
      "episode 4525, reward 1998.0, memory_length 2000, epsilon 0.01703474835861059\n",
      "episode 4550, reward 1744.0, memory_length 2000, epsilon 0.016655746282908664\n",
      "episode 4575, reward 1673.0, memory_length 2000, epsilon 0.016285176534492258\n",
      "episode 4600, reward 1808.0, memory_length 2000, epsilon 0.015922851504511698\n",
      "episode 4625, reward 1836.0, memory_length 2000, epsilon 0.01556858775818209\n",
      "episode 4650, reward 1800.0, memory_length 2000, epsilon 0.015222205941915569\n",
      "episode 4675, reward 1732.0, memory_length 2000, epsilon 0.014883530692519705\n",
      "episode 4700, reward 2067.0, memory_length 2000, epsilon 0.014552390548416136\n",
      "episode 4725, reward 1876.0, memory_length 2000, epsilon 0.014228617862834492\n",
      "episode 4750, reward 2019.0, memory_length 2000, epsilon 0.013912048718937631\n",
      "episode 4775, reward 1919.0, memory_length 2000, epsilon 0.013602522846835228\n",
      "episode 4800, reward 1890.0, memory_length 2000, epsilon 0.013299883542443767\n",
      "episode 4825, reward 1772.0, memory_length 2000, epsilon 0.013003977588151687\n",
      "episode 4850, reward 1631.0, memory_length 2000, epsilon 0.012714655175249731\n",
      "episode 4875, reward 2258.0, memory_length 2000, epsilon 0.012431769828087082\n",
      "episode 4900, reward 2016.0, memory_length 2000, epsilon 0.012155178329914935\n",
      "episode 4925, reward 1920.0, memory_length 2000, epsilon 0.011884740650379961\n",
      "episode 4950, reward 1796.0, memory_length 2000, epsilon 0.011620319874630945\n",
      "episode 4975, reward 1781.0, memory_length 2000, epsilon 0.011361782134002721\n",
      "episode 5000, reward 1569.0, memory_length 2000, epsilon 0.011108996538242306\n",
      "episode 5025, reward 1538.0, memory_length 2000, epsilon 0.010861835109242907\n",
      "episode 5050, reward 1890.0, memory_length 2000, epsilon 0.01062017271625227\n",
      "episode 5075, reward 1734.0, memory_length 2000, epsilon 0.010383887012522573\n",
      "episode 5100, reward 1716.0, memory_length 2000, epsilon 0.010152858373369763\n",
      "episode 5125, reward 1840.0, memory_length 2000, epsilon 0.01\n",
      "episode 5150, reward 1896.0, memory_length 2000, epsilon 0.01\n",
      "episode 5175, reward 1981.0, memory_length 2000, epsilon 0.01\n",
      "episode 5200, reward 1810.0, memory_length 2000, epsilon 0.01\n",
      "episode 5225, reward 1732.0, memory_length 2000, epsilon 0.01\n",
      "episode 5250, reward 1678.0, memory_length 2000, epsilon 0.01\n",
      "episode 5275, reward 1867.0, memory_length 2000, epsilon 0.01\n",
      "episode 5300, reward 1768.0, memory_length 2000, epsilon 0.01\n",
      "episode 5325, reward 1916.0, memory_length 2000, epsilon 0.01\n",
      "episode 5350, reward 1574.0, memory_length 2000, epsilon 0.01\n",
      "episode 5375, reward 1876.0, memory_length 2000, epsilon 0.01\n"
     ]
    },
    {
     "name": "stdout",
     "output_type": "stream",
     "text": [
      "episode 5400, reward 1833.0, memory_length 2000, epsilon 0.01\n",
      "episode 5425, reward 1768.0, memory_length 2000, epsilon 0.01\n",
      "episode 5450, reward 1872.0, memory_length 2000, epsilon 0.01\n",
      "episode 5475, reward 1929.0, memory_length 2000, epsilon 0.01\n",
      "episode 5500, reward 2043.0, memory_length 2000, epsilon 0.01\n",
      "episode 5525, reward 2070.0, memory_length 2000, epsilon 0.01\n",
      "episode 5550, reward 1932.0, memory_length 2000, epsilon 0.01\n",
      "episode 5575, reward 1597.0, memory_length 2000, epsilon 0.01\n",
      "episode 5600, reward 1970.0, memory_length 2000, epsilon 0.01\n",
      "episode 5625, reward 1701.0, memory_length 2000, epsilon 0.01\n",
      "episode 5650, reward 1729.0, memory_length 2000, epsilon 0.01\n",
      "episode 5675, reward 1737.0, memory_length 2000, epsilon 0.01\n",
      "episode 5700, reward 1593.0, memory_length 2000, epsilon 0.01\n",
      "episode 5725, reward 1882.0, memory_length 2000, epsilon 0.01\n",
      "episode 5750, reward 1506.0, memory_length 2000, epsilon 0.01\n",
      "episode 5775, reward 1901.0, memory_length 2000, epsilon 0.01\n",
      "episode 5800, reward 1939.0, memory_length 2000, epsilon 0.01\n",
      "episode 5825, reward 1850.0, memory_length 2000, epsilon 0.01\n",
      "episode 5850, reward 1846.0, memory_length 2000, epsilon 0.01\n",
      "episode 5875, reward 1741.0, memory_length 2000, epsilon 0.01\n",
      "episode 5900, reward 1777.0, memory_length 2000, epsilon 0.01\n",
      "episode 5925, reward 1748.0, memory_length 2000, epsilon 0.01\n",
      "episode 5950, reward 1812.0, memory_length 2000, epsilon 0.01\n",
      "episode 5975, reward 1854.0, memory_length 2000, epsilon 0.01\n"
     ]
    },
    {
     "data": {
      "text/plain": [
       "[<matplotlib.lines.Line2D at 0xb23256eb8>]"
      ]
     },
     "execution_count": 9,
     "metadata": {},
     "output_type": "execute_result"
    },
    {
     "data": {
      "image/png": "[encoded data removed]",
      "text/plain": [
       "<matplotlib.figure.Figure at 0xb2326bd30>"
      ]
     },
     "metadata": {},
     "output_type": "display_data"
    }
   ],
   "source": [
    "env = CabDriver()\n",
    "action_space, state_space, state = env.reset()\n",
    "state_size = len(env.state_encod_arch1(state))\n",
    "agent = DQNAgent(state_size, len(action_space))\n",
    "scores, episodes = [], []\n",
    "\n",
    "\n",
    "for episode in range(Episodes):\n",
    "\n",
    "    # Write code here\n",
    "    # Call the environment\n",
    "    env = CabDriver()\n",
    "    _, _, state = env.reset()\n",
    "    # Call all the initialised variables of the environment\n",
    "    terminal_state = False\n",
    "    hours_run = 0\n",
    "    total_reward = 0\n",
    "\n",
    "    # Call the DQN agent\n",
    "    # Every episode lasts 30 days\n",
    "    while not terminal_state:        \n",
    "        # Write your code here\n",
    "        # 1. Pick epsilon-greedy action from possible actions for the current state\n",
    "        action = agent.get_action(state, env)\n",
    "        # 2. Evaluate your reward and next state\n",
    "        reward = env.reward_func(state, action, Time_matrix)\n",
    "        next_state, trip_hours = env.next_state_func(state, action, Time_matrix)\n",
    "        # 3. Append the experience to the memory\n",
    "        agent.append_sample(state, action, reward, next_state)\n",
    "        # 4. Train the model by calling function agent.train_model\n",
    "        agent.train_model(env)\n",
    "        # 5. Keep a track of rewards, Q-values, loss\n",
    "        total_reward = total_reward + reward\n",
    "        if state in States_track.keys():\n",
    "            States_track[state].append(np.max(agent.model.predict(env.state_encod_arch1(state).T)))\n",
    "\n",
    "        state = next_state\n",
    "        hours_run = hours_run + trip_hours\n",
    "        terminal_state = (hours_run >= 24*30)\n",
    "        \n",
    "    scores.append(total_reward)\n",
    "    episodes.append(episode)\n",
    "    \n",
    "    # Decay in ε after each episode       \n",
    "    agent.epsilon = max(agent.epsilon_min, np.exp(-0.0009*episode))\n",
    "\n",
    "\n",
    "    #save the model \n",
    "    if episode % 25 == 0:\n",
    "        #print(f\"Episode {episode} done.\")\n",
    "        print(\"episode {0}, reward {1}, memory_length {2}, epsilon {3}\".format(episode,\n",
    "                                                                         total_reward,\n",
    "                                                                         len(agent.memory),\n",
    "                                                                         agent.epsilon))\n",
    "        agent.model.save_weights(\"./dqn_arch1.h5\")\n",
    "\n",
    "        \n",
    "pylab.plot(episodes, scores, 'b')\n"
   ]
  },
  {
   "cell_type": "code",
   "execution_count": null,
   "metadata": {},
   "outputs": [],
   "source": []
  },
  {
   "cell_type": "code",
   "execution_count": null,
   "metadata": {},
   "outputs": [],
   "source": []
  },
  {
   "cell_type": "markdown",
   "metadata": {},
   "source": [
    "### Tracking Convergence"
   ]
  },
  {
   "cell_type": "code",
   "execution_count": 10,
   "metadata": {},
   "outputs": [
    {
     "data": {
      "image/png": "[encoded data removed]",
      "text/plain": [
       "<matplotlib.figure.Figure at 0xb2313dbe0>"
      ]
     },
     "metadata": {},
     "output_type": "display_data"
    }
   ],
   "source": [
    "aKey = list(States_track.keys())[0]\n",
    "qvals = States_track[aKey]\n",
    "time = range(0, len(qvals))\n",
    "plt.plot(time, qvals)\n",
    "plt.show()"
   ]
  },
  {
   "cell_type": "code",
   "execution_count": null,
   "metadata": {},
   "outputs": [],
   "source": []
  },
  {
   "cell_type": "code",
   "execution_count": null,
   "metadata": {},
   "outputs": [],
   "source": []
  },
  {
   "cell_type": "markdown",
   "metadata": {},
   "source": [
    "#### Epsilon-decay sample function"
   ]
  },
  {
   "cell_type": "markdown",
   "metadata": {},
   "source": [
    "<div class=\"alert alert-block alert-info\">\n",
    "Try building a similar epsilon-decay function for your model.\n",
    "</div>"
   ]
  },
  {
   "cell_type": "code",
   "execution_count": 11,
   "metadata": {},
   "outputs": [],
   "source": [
    "time = np.arange(0,10000)\n",
    "epsilon = [1]\n",
    "for i in range(1,10000):\n",
    "    epsilon.append(np.exp(-0.0009*i))\n",
    "    # epsilon.append(epsilon[i-1]*0.998)"
   ]
  },
  {
   "cell_type": "code",
   "execution_count": 12,
   "metadata": {},
   "outputs": [
    {
     "data": {
      "image/png": "[encoded data removed]",
      "text/plain": [
       "<matplotlib.figure.Figure at 0xb23053588>"
      ]
     },
     "metadata": {},
     "output_type": "display_data"
    }
   ],
   "source": [
    "plt.plot(time, epsilon)\n",
    "plt.show()"
   ]
  },
  {
   "cell_type": "code",
   "execution_count": null,
   "metadata": {},
   "outputs": [],
   "source": []
  }
 ],
 "metadata": {
  "kernelspec": {
   "display_name": "Python 3",
   "language": "python",
   "name": "python3"
  },
  "language_info": {
   "codemirror_mode": {
    "name": "ipython",
    "version": 3
   },
   "file_extension": ".py",
   "mimetype": "text/x-python",
   "name": "python",
   "nbconvert_exporter": "python",
   "pygments_lexer": "ipython3",
   "version": "3.6.8"
  }
 },
 "nbformat": 4,
 "nbformat_minor": 2
}
