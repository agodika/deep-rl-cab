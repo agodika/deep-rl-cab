{
 "cells": [
  {
   "cell_type": "markdown",
   "metadata": {},
   "source": [
    "### Cab-Driver Agent"
   ]
  },
  {
   "cell_type": "code",
   "execution_count": 1,
   "metadata": {},
   "outputs": [
    {
     "name": "stderr",
     "output_type": "stream",
     "text": [
      "/anaconda3/lib/python3.6/site-packages/h5py/__init__.py:36: FutureWarning: Conversion of the second argument of issubdtype from `float` to `np.floating` is deprecated. In future, it will be treated as `np.float64 == np.dtype(float).type`.\n",
      "  from ._conv import register_converters as _register_converters\n",
      "Using TensorFlow backend.\n"
     ]
    }
   ],
   "source": [
    "# Importing libraries\n",
    "import numpy as np\n",
    "import random\n",
    "import math\n",
    "from collections import deque\n",
    "import collections\n",
    "import pickle\n",
    "import pylab\n",
    "\n",
    "# for building DQN model\n",
    "from keras import layers\n",
    "from keras import Sequential\n",
    "from keras.layers import Dense, Activation, Flatten\n",
    "from keras.optimizers import Adam\n",
    "\n",
    "# for plotting graphs\n",
    "import matplotlib.pyplot as plt\n",
    "\n",
    "# Import the environment\n",
    "from Env import CabDriver"
   ]
  },
  {
   "cell_type": "markdown",
   "metadata": {},
   "source": [
    "#### Defining Time Matrix"
   ]
  },
  {
   "cell_type": "code",
   "execution_count": 2,
   "metadata": {},
   "outputs": [],
   "source": [
    "# Loading the time matrix provided\n",
    "Time_matrix = np.load(\"TM.npy\")"
   ]
  },
  {
   "cell_type": "markdown",
   "metadata": {},
   "source": [
    "#### Tracking the state-action pairs for checking convergence\n"
   ]
  },
  {
   "cell_type": "code",
   "execution_count": 3,
   "metadata": {},
   "outputs": [],
   "source": [
    "States_track = {}\n",
    "\n",
    "# Initialise states to be tracked\n",
    "def initialise_tracking_states():\n",
    "    env = CabDriver()\n",
    "    action_space, state_space, _ = env.reset()\n",
    "    states_to_track = random.sample(state_space, k=5)\n",
    "    for state in states_to_track: \n",
    "        States_track[state] = []\n"
   ]
  },
  {
   "cell_type": "code",
   "execution_count": 4,
   "metadata": {},
   "outputs": [
    {
     "data": {
      "text/plain": [
       "{(3, 15, 3): [], (3, 17, 3): [], (2, 21, 4): [], (4, 4, 5): [], (0, 3, 5): []}"
      ]
     },
     "execution_count": 4,
     "metadata": {},
     "output_type": "execute_result"
    }
   ],
   "source": [
    "initialise_tracking_states()\n",
    "States_track"
   ]
  },
  {
   "cell_type": "code",
   "execution_count": null,
   "metadata": {},
   "outputs": [],
   "source": []
  },
  {
   "cell_type": "code",
   "execution_count": 5,
   "metadata": {},
   "outputs": [],
   "source": [
    "#Defining a function to save the Q-dictionary as a pickle file\n",
    "def save_obj(obj, name ):\n",
    "    with open(name + '.pkl', 'wb') as f:\n",
    "        pickle.dump(obj, f, pickle.HIGHEST_PROTOCOL)"
   ]
  },
  {
   "cell_type": "markdown",
   "metadata": {},
   "source": [
    "### Agent Class\n",
    "\n",
    "If you are using this framework, you need to fill the following to complete the following code block:\n",
    "1. State and Action Size\n",
    "2. Hyperparameters\n",
    "3. Create a neural-network model in function 'build_model()'\n",
    "4. Define epsilon-greedy strategy in function 'get_action()'\n",
    "5. Complete the function 'append_sample()'. This function appends the recent experience tuple <state, action, reward, new-state> to the memory\n",
    "6. Complete the 'train_model()' function with following logic:\n",
    "   - If the memory size is greater than mini-batch size, you randomly sample experiences from memory as per the mini-batch size and do the following:\n",
    "      - Initialise your input and output batch for training the model\n",
    "      - Calculate the target Q value for each sample: reward + gamma*max(Q(s'a,))\n",
    "      - Get Q(s', a) values from the last trained model\n",
    "      - Update the input batch as your encoded state and output batch as your Q-values\n",
    "      - Then fit your DQN model using the updated input and output batch."
   ]
  },
  {
   "cell_type": "code",
   "execution_count": 6,
   "metadata": {},
   "outputs": [],
   "source": [
    "class DQNAgent:\n",
    "    def __init__(self, state_size, action_size):\n",
    "        # Define size of state and action\n",
    "        self.state_size = state_size\n",
    "        self.action_size = action_size\n",
    "\n",
    "        # Write here: Specify you hyper parameters for the DQN\n",
    "        self.discount_factor = 0.95\n",
    "        self.learning_rate = 0.01      \n",
    "        self.epsilon = 1 #start at max value of epsilon\n",
    "        self.epsilon_decay = 0.999\n",
    "        self.epsilon_min = 0.01\n",
    "        self.batch_size = 32        \n",
    "        # create replay memory using deque\n",
    "        self.memory = deque(maxlen=2000)\n",
    "\n",
    "        # create main model and target model\n",
    "        self.model = self.build_model()\n",
    "\n",
    "    # approximate Q function using Neural Network\n",
    "    def build_model(self):\n",
    "        model = Sequential()\n",
    "        # Write your code here: Add layers to your neural nets       \n",
    "        model.add(Dense(32, input_dim=self.state_size, activation='relu', kernel_initializer='he_uniform'))\n",
    "        model.add(Dense(32, activation='relu', kernel_initializer='he_uniform'))\n",
    "        model.add(Dense(self.action_size, activation='linear', kernel_initializer='he_uniform'))\n",
    "                \n",
    "        model.compile(loss='mse',optimizer=Adam(lr=self.learning_rate))\n",
    "        print(model.summary)\n",
    "        return model\n",
    "\n",
    "\n",
    "    def get_action(self, state, env):\n",
    "        # Write your code here:\n",
    "        possible_actions_index, actions = env.requests(state)\n",
    "        # get action from model using epsilon-greedy policy\n",
    "        if np.random.rand() <= self.epsilon:\n",
    "            action = random.choice(actions) #explore\n",
    "        else:\n",
    "            encoded_state = env.state_encod_arch1(state)\n",
    "            q_values = self.model.predict(encoded_state.T)\n",
    "            # Out of all the q_values we need to pick the action from possible_actions with max q_value\n",
    "            favorable_action_index = possible_actions_index[np.argmax(q_values[0][possible_actions_index])]\n",
    "            action = env.action_space[favorable_action_index]\n",
    "        \n",
    "        # Decay in ε after we generate each sample from the environment       \n",
    "        self.epsilon = max(self.epsilon_min, self.epsilon * self.epsilon_decay)\n",
    "        return action\n",
    "        \n",
    "        \n",
    "    def append_sample(self, state, action, reward, next_state):\n",
    "        # Write your code here:\n",
    "        # save sample <s,a,r,s'> to the replay memory\n",
    "        self.memory.append((state, action, reward, next_state))           \n",
    "    \n",
    "        \n",
    "    # pick samples randomly from replay memory (with batch_size) and train the network\n",
    "    def train_model(self, env):\n",
    "        \n",
    "        if len(self.memory) > self.batch_size:\n",
    "            # Sample batch from the memory\n",
    "            mini_batch = random.sample(self.memory, self.batch_size)\n",
    "            \n",
    "            # Initialize variables for storing s, s', a and r\n",
    "            update_output = np.zeros((self.batch_size, self.action_size)) # write here\n",
    "            update_input = np.zeros((self.batch_size, self.state_size)) # write here\n",
    "            \n",
    "            actions, rewards = [], []\n",
    "            \n",
    "            for i in range(self.batch_size):\n",
    "                state, action, reward, next_state = mini_batch[i]                \n",
    "                action_index = env.action_space.index(action)\n",
    "                \n",
    "                # 1. Predict the target from earlier model\n",
    "                target = self.model.predict(env.state_encod_arch1(state).T)\n",
    "                # 2. Get the target for the Q-network\n",
    "                future_q_values = self.model.predict(env.state_encod_arch1(next_state).T)\n",
    "                                \n",
    "                #3. Update your 'update_output' and 'update_input' batch\n",
    "                update_input[i] = env.state_encod_arch1(state).flatten()\n",
    "                rewards.append(reward)\n",
    "                actions.append(action)\n",
    "                update_output[i] = target\n",
    "                \n",
    "                # Update the target value according to the update policy of Q-learning\n",
    "                # R_t + γ ∗ max Q_t(S_{t+1},a)−Q_t(S_t,a_t)\n",
    "                # Q Learning: get maximum Q value at s' from target model\n",
    "                update_output[i][action_index] = reward + self.discount_factor * (np.amax(future_q_values))\n",
    "\n",
    "            # 4. Fit your model and track the loss values\n",
    "            self.model.fit(update_input, update_output, batch_size=self.batch_size,\n",
    "                           epochs=1, verbose=0)\n",
    "\n",
    "                \n",
    "                \n",
    "    def save(self, name):\n",
    "        self.model.save(name)"
   ]
  },
  {
   "cell_type": "code",
   "execution_count": 7,
   "metadata": {},
   "outputs": [
    {
     "name": "stdout",
     "output_type": "stream",
     "text": [
      "36\n",
      "<bound method Network.summary of <keras.engine.sequential.Sequential object at 0xb258ca630>>\n",
      "(2, 1)\n",
      "9\n"
     ]
    },
    {
     "data": {
      "text/plain": [
       "((1, 11, 2), 4.0)"
      ]
     },
     "execution_count": 7,
     "metadata": {},
     "output_type": "execute_result"
    }
   ],
   "source": [
    "# test code \n",
    "env = CabDriver()\n",
    "_,_,state = env.reset()\n",
    "print(len(env.state_encod_arch1(state)))\n",
    "agent = DQNAgent(len(env.state_encod_arch1(state)), len(env.action_space))\n",
    "agent.epsilon = 1.10\n",
    "\n",
    "action = agent.get_action(env.state_init, env)\n",
    "print(action)\n",
    "print(env.action_space.index(action))\n",
    "env.next_state_func(state, action, Time_matrix)"
   ]
  },
  {
   "cell_type": "code",
   "execution_count": 8,
   "metadata": {},
   "outputs": [],
   "source": [
    "Episodes = 5000"
   ]
  },
  {
   "cell_type": "markdown",
   "metadata": {},
   "source": [
    "### DQN block"
   ]
  },
  {
   "cell_type": "code",
   "execution_count": 9,
   "metadata": {
    "scrolled": false
   },
   "outputs": [
    {
     "name": "stdout",
     "output_type": "stream",
     "text": [
      "<bound method Network.summary of <keras.engine.sequential.Sequential object at 0xb259cd400>>\n",
      "Episode 0 done.\n",
      "Episode 25 done.\n",
      "Episode 50 done.\n",
      "Episode 75 done.\n",
      "Episode 100 done.\n",
      "Episode 125 done.\n",
      "Episode 150 done.\n",
      "Episode 175 done.\n",
      "Episode 200 done.\n",
      "Episode 225 done.\n",
      "Episode 250 done.\n",
      "Episode 275 done.\n",
      "Episode 300 done.\n",
      "Episode 325 done.\n",
      "Episode 350 done.\n",
      "Episode 375 done.\n",
      "Episode 400 done.\n",
      "Episode 425 done.\n",
      "Episode 450 done.\n",
      "Episode 475 done.\n",
      "Episode 500 done.\n",
      "Episode 525 done.\n",
      "Episode 550 done.\n",
      "Episode 575 done.\n",
      "Episode 600 done.\n",
      "Episode 625 done.\n",
      "Episode 650 done.\n",
      "Episode 675 done.\n",
      "Episode 700 done.\n",
      "Episode 725 done.\n",
      "Episode 750 done.\n",
      "Episode 775 done.\n",
      "Episode 800 done.\n",
      "Episode 825 done.\n",
      "Episode 850 done.\n",
      "Episode 875 done.\n",
      "Episode 900 done.\n",
      "Episode 925 done.\n",
      "Episode 950 done.\n",
      "Episode 975 done.\n",
      "Episode 1000 done.\n",
      "Episode 1025 done.\n",
      "Episode 1050 done.\n",
      "Episode 1075 done.\n",
      "Episode 1100 done.\n",
      "Episode 1125 done.\n",
      "Episode 1150 done.\n",
      "Episode 1175 done.\n",
      "Episode 1200 done.\n",
      "Episode 1225 done.\n",
      "Episode 1250 done.\n",
      "Episode 1275 done.\n",
      "Episode 1300 done.\n",
      "Episode 1325 done.\n",
      "Episode 1350 done.\n",
      "Episode 1375 done.\n",
      "Episode 1400 done.\n",
      "Episode 1425 done.\n",
      "Episode 1450 done.\n",
      "Episode 1475 done.\n",
      "Episode 1500 done.\n",
      "Episode 1525 done.\n",
      "Episode 1550 done.\n",
      "Episode 1575 done.\n",
      "Episode 1600 done.\n",
      "Episode 1625 done.\n",
      "Episode 1650 done.\n",
      "Episode 1675 done.\n",
      "Episode 1700 done.\n",
      "Episode 1725 done.\n",
      "Episode 1750 done.\n",
      "Episode 1775 done.\n",
      "Episode 1800 done.\n",
      "Episode 1825 done.\n",
      "Episode 1850 done.\n",
      "Episode 1875 done.\n",
      "Episode 1900 done.\n",
      "Episode 1925 done.\n",
      "Episode 1950 done.\n",
      "Episode 1975 done.\n",
      "Episode 2000 done.\n",
      "Episode 2025 done.\n",
      "Episode 2050 done.\n",
      "Episode 2075 done.\n",
      "Episode 2100 done.\n",
      "Episode 2125 done.\n",
      "Episode 2150 done.\n",
      "Episode 2175 done.\n",
      "Episode 2200 done.\n",
      "Episode 2225 done.\n",
      "Episode 2250 done.\n",
      "Episode 2275 done.\n",
      "Episode 2300 done.\n",
      "Episode 2325 done.\n",
      "Episode 2350 done.\n",
      "Episode 2375 done.\n",
      "Episode 2400 done.\n",
      "Episode 2425 done.\n",
      "Episode 2450 done.\n",
      "Episode 2475 done.\n",
      "Episode 2500 done.\n",
      "Episode 2525 done.\n",
      "Episode 2550 done.\n",
      "Episode 2575 done.\n",
      "Episode 2600 done.\n",
      "Episode 2625 done.\n",
      "Episode 2650 done.\n",
      "Episode 2675 done.\n",
      "Episode 2700 done.\n",
      "Episode 2725 done.\n",
      "Episode 2750 done.\n",
      "Episode 2775 done.\n",
      "Episode 2800 done.\n",
      "Episode 2825 done.\n",
      "Episode 2850 done.\n",
      "Episode 2875 done.\n",
      "Episode 2900 done.\n",
      "Episode 2925 done.\n",
      "Episode 2950 done.\n",
      "Episode 2975 done.\n",
      "Episode 3000 done.\n",
      "Episode 3025 done.\n",
      "Episode 3050 done.\n",
      "Episode 3075 done.\n",
      "Episode 3100 done.\n",
      "Episode 3125 done.\n",
      "Episode 3150 done.\n",
      "Episode 3175 done.\n",
      "Episode 3200 done.\n",
      "Episode 3225 done.\n",
      "Episode 3250 done.\n",
      "Episode 3275 done.\n",
      "Episode 3300 done.\n",
      "Episode 3325 done.\n",
      "Episode 3350 done.\n",
      "Episode 3375 done.\n",
      "Episode 3400 done.\n",
      "Episode 3425 done.\n",
      "Episode 3450 done.\n",
      "Episode 3475 done.\n",
      "Episode 3500 done.\n",
      "Episode 3525 done.\n",
      "Episode 3550 done.\n",
      "Episode 3575 done.\n",
      "Episode 3600 done.\n",
      "Episode 3625 done.\n",
      "Episode 3650 done.\n",
      "Episode 3675 done.\n",
      "Episode 3700 done.\n",
      "Episode 3725 done.\n",
      "Episode 3750 done.\n",
      "Episode 3775 done.\n",
      "Episode 3800 done.\n",
      "Episode 3825 done.\n",
      "Episode 3850 done.\n",
      "Episode 3875 done.\n",
      "Episode 3900 done.\n",
      "Episode 3925 done.\n",
      "Episode 3950 done.\n",
      "Episode 3975 done.\n",
      "Episode 4000 done.\n",
      "Episode 4025 done.\n",
      "Episode 4050 done.\n",
      "Episode 4075 done.\n",
      "Episode 4100 done.\n",
      "Episode 4125 done.\n",
      "Episode 4150 done.\n",
      "Episode 4175 done.\n",
      "Episode 4200 done.\n",
      "Episode 4225 done.\n",
      "Episode 4250 done.\n",
      "Episode 4275 done.\n",
      "Episode 4300 done.\n",
      "Episode 4325 done.\n",
      "Episode 4350 done.\n",
      "Episode 4375 done.\n",
      "Episode 4400 done.\n",
      "Episode 4425 done.\n",
      "Episode 4450 done.\n",
      "Episode 4475 done.\n",
      "Episode 4500 done.\n",
      "Episode 4525 done.\n",
      "Episode 4550 done.\n",
      "Episode 4575 done.\n",
      "Episode 4600 done.\n",
      "Episode 4625 done.\n",
      "Episode 4650 done.\n",
      "Episode 4675 done.\n",
      "Episode 4700 done.\n",
      "Episode 4725 done.\n",
      "Episode 4750 done.\n",
      "Episode 4775 done.\n",
      "Episode 4800 done.\n",
      "Episode 4825 done.\n",
      "Episode 4850 done.\n",
      "Episode 4875 done.\n",
      "Episode 4900 done.\n",
      "Episode 4925 done.\n",
      "Episode 4950 done.\n",
      "Episode 4975 done.\n"
     ]
    },
    {
     "data": {
      "text/plain": [
       "[<matplotlib.lines.Line2D at 0xb25b3e2b0>]"
      ]
     },
     "execution_count": 9,
     "metadata": {},
     "output_type": "execute_result"
    },
    {
     "data": {
      "image/png": "[encoded data removed]",
      "text/plain": [
       "<matplotlib.figure.Figure at 0xb25aee400>"
      ]
     },
     "metadata": {},
     "output_type": "display_data"
    }
   ],
   "source": [
    "env = CabDriver()\n",
    "action_space, state_space, state = env.reset()\n",
    "state_size = len(env.state_encod_arch1(state))\n",
    "agent = DQNAgent(state_size, len(action_space))\n",
    "scores, episodes = [], []\n",
    "\n",
    "\n",
    "for episode in range(Episodes):\n",
    "\n",
    "    # Write code here\n",
    "    # Call the environment\n",
    "    env = CabDriver()\n",
    "    _, _, state = env.reset()\n",
    "    # Call all the initialised variables of the environment\n",
    "    terminal_state = False\n",
    "    hours_run = 0\n",
    "    total_reward = 0\n",
    "\n",
    "    # Call the DQN agent\n",
    "    # Every episode lasts 30 days\n",
    "    while not terminal_state:        \n",
    "        # Write your code here\n",
    "        # 1. Pick epsilon-greedy action from possible actions for the current state\n",
    "        action = agent.get_action(state, env)\n",
    "        # 2. Evaluate your reward and next state\n",
    "        reward = env.reward_func(state, action, Time_matrix)\n",
    "        next_state, trip_hours = env.next_state_func(state, action, Time_matrix)\n",
    "        # 3. Append the experience to the memory\n",
    "        agent.append_sample(state, action, reward, next_state)\n",
    "        # 4. Train the model by calling function agent.train_model\n",
    "        agent.train_model(env)\n",
    "        # 5. Keep a track of rewards, Q-values, loss\n",
    "        total_reward = total_reward + reward\n",
    "        if state in States_track.keys():\n",
    "            States_track[state].append(np.max(agent.model.predict(env.state_encod_arch1(state).T)))\n",
    "\n",
    "        state = next_state\n",
    "        hours_run = hours_run + trip_hours\n",
    "        terminal_state = (hours_run >= 24*30)\n",
    "        \n",
    "    scores.append(total_reward)\n",
    "    episodes.append(episode)\n",
    "\n",
    "    #save the model \n",
    "    if episode % 25 == 0:\n",
    "        print(f\"Episode {episode} done.\")\n",
    "        agent.model.save_weights(\"./dqn_arch1.h5\")\n",
    "\n",
    "        \n",
    "pylab.plot(episodes, scores, 'b')\n"
   ]
  },
  {
   "cell_type": "code",
   "execution_count": null,
   "metadata": {},
   "outputs": [],
   "source": []
  },
  {
   "cell_type": "code",
   "execution_count": null,
   "metadata": {},
   "outputs": [],
   "source": []
  },
  {
   "cell_type": "markdown",
   "metadata": {},
   "source": [
    "### Tracking Convergence"
   ]
  },
  {
   "cell_type": "code",
   "execution_count": 10,
   "metadata": {},
   "outputs": [
    {
     "data": {
      "image/png": "[encoded data removed]",
      "text/plain": [
       "<matplotlib.figure.Figure at 0xb25ac54e0>"
      ]
     },
     "metadata": {},
     "output_type": "display_data"
    }
   ],
   "source": [
    "aKey = list(States_track.keys())[0]\n",
    "qvals = States_track[aKey]\n",
    "time = range(0, len(qvals))\n",
    "plt.plot(time, qvals)\n",
    "plt.show()"
   ]
  },
  {
   "cell_type": "code",
   "execution_count": null,
   "metadata": {},
   "outputs": [],
   "source": []
  },
  {
   "cell_type": "code",
   "execution_count": null,
   "metadata": {},
   "outputs": [],
   "source": []
  },
  {
   "cell_type": "markdown",
   "metadata": {},
   "source": [
    "#### Epsilon-decay sample function"
   ]
  },
  {
   "cell_type": "markdown",
   "metadata": {},
   "source": [
    "<div class=\"alert alert-block alert-info\">\n",
    "Try building a similar epsilon-decay function for your model.\n",
    "</div>"
   ]
  },
  {
   "cell_type": "code",
   "execution_count": 11,
   "metadata": {},
   "outputs": [],
   "source": [
    "time = np.arange(0,10000)\n",
    "epsilon = [1]\n",
    "for i in range(1,10000):\n",
    "    # epsilon.append(0 + (1 - 0) * np.exp(-0.0009*i))\n",
    "    epsilon.append(epsilon[i-1]*0.999)"
   ]
  },
  {
   "cell_type": "code",
   "execution_count": 12,
   "metadata": {},
   "outputs": [
    {
     "data": {
      "image/png": "[encoded data removed]",
      "text/plain": [
       "<matplotlib.figure.Figure at 0xb25b4acc0>"
      ]
     },
     "metadata": {},
     "output_type": "display_data"
    }
   ],
   "source": [
    "plt.plot(time, epsilon)\n",
    "plt.show()"
   ]
  },
  {
   "cell_type": "code",
   "execution_count": null,
   "metadata": {},
   "outputs": [],
   "source": []
  }
 ],
 "metadata": {
  "kernelspec": {
   "display_name": "Python 3",
   "language": "python",
   "name": "python3"
  },
  "language_info": {
   "codemirror_mode": {
    "name": "ipython",
    "version": 3
   },
   "file_extension": ".py",
   "mimetype": "text/x-python",
   "name": "python",
   "nbconvert_exporter": "python",
   "pygments_lexer": "ipython3",
   "version": "3.6.8"
  }
 },
 "nbformat": 4,
 "nbformat_minor": 2
}
