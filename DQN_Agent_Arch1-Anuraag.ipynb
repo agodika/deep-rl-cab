{
 "cells": [
  {
   "cell_type": "markdown",
   "metadata": {},
   "source": [
    "### Cab-Driver Agent"
   ]
  },
  {
   "cell_type": "code",
   "execution_count": 1,
   "metadata": {},
   "outputs": [
    {
     "name": "stderr",
     "output_type": "stream",
     "text": [
      "/anaconda3/lib/python3.6/site-packages/h5py/__init__.py:36: FutureWarning: Conversion of the second argument of issubdtype from `float` to `np.floating` is deprecated. In future, it will be treated as `np.float64 == np.dtype(float).type`.\n",
      "  from ._conv import register_converters as _register_converters\n",
      "Using TensorFlow backend.\n"
     ]
    }
   ],
   "source": [
    "# Importing libraries\n",
    "import numpy as np\n",
    "import random\n",
    "import math\n",
    "from collections import deque\n",
    "import collections\n",
    "import pickle\n",
    "import pylab\n",
    "\n",
    "# for building DQN model\n",
    "from keras import layers\n",
    "from keras import Sequential\n",
    "from keras.layers import Dense, Activation, Flatten\n",
    "from keras.optimizers import Adam\n",
    "\n",
    "# for plotting graphs\n",
    "import matplotlib.pyplot as plt\n",
    "\n",
    "# Import the environment\n",
    "from Env import CabDriver"
   ]
  },
  {
   "cell_type": "markdown",
   "metadata": {},
   "source": [
    "#### Defining Time Matrix"
   ]
  },
  {
   "cell_type": "code",
   "execution_count": 2,
   "metadata": {},
   "outputs": [],
   "source": [
    "# Loading the time matrix provided\n",
    "Time_matrix = np.load(\"TM.npy\")"
   ]
  },
  {
   "cell_type": "markdown",
   "metadata": {},
   "source": [
    "#### Tracking the state-action pairs for checking convergence\n"
   ]
  },
  {
   "cell_type": "code",
   "execution_count": 3,
   "metadata": {},
   "outputs": [],
   "source": [
    "States_track = {}\n",
    "\n",
    "# Initialise states to be tracked\n",
    "def initialise_tracking_states():\n",
    "    env = CabDriver()\n",
    "    action_space, state_space, _ = env.reset()\n",
    "    states_to_track = random.sample(state_space, k=5)\n",
    "    for state in states_to_track: \n",
    "        States_track[state] = []\n"
   ]
  },
  {
   "cell_type": "code",
   "execution_count": 4,
   "metadata": {},
   "outputs": [
    {
     "data": {
      "text/plain": [
       "{(3, 6, 0): [], (1, 16, 6): [], (3, 11, 0): [], (1, 14, 6): [], (1, 8, 1): []}"
      ]
     },
     "execution_count": 4,
     "metadata": {},
     "output_type": "execute_result"
    }
   ],
   "source": [
    "initialise_tracking_states()\n",
    "States_track"
   ]
  },
  {
   "cell_type": "code",
   "execution_count": null,
   "metadata": {},
   "outputs": [],
   "source": []
  },
  {
   "cell_type": "code",
   "execution_count": 5,
   "metadata": {},
   "outputs": [],
   "source": [
    "#Defining a function to save the Q-dictionary as a pickle file\n",
    "def save_obj(obj, name ):\n",
    "    with open(name + '.pkl', 'wb') as f:\n",
    "        pickle.dump(obj, f, pickle.HIGHEST_PROTOCOL)"
   ]
  },
  {
   "cell_type": "markdown",
   "metadata": {},
   "source": [
    "### Agent Class\n",
    "\n",
    "If you are using this framework, you need to fill the following to complete the following code block:\n",
    "1. State and Action Size\n",
    "2. Hyperparameters\n",
    "3. Create a neural-network model in function 'build_model()'\n",
    "4. Define epsilon-greedy strategy in function 'get_action()'\n",
    "5. Complete the function 'append_sample()'. This function appends the recent experience tuple <state, action, reward, new-state> to the memory\n",
    "6. Complete the 'train_model()' function with following logic:\n",
    "   - If the memory size is greater than mini-batch size, you randomly sample experiences from memory as per the mini-batch size and do the following:\n",
    "      - Initialise your input and output batch for training the model\n",
    "      - Calculate the target Q value for each sample: reward + gamma*max(Q(s'a,))\n",
    "      - Get Q(s', a) values from the last trained model\n",
    "      - Update the input batch as your encoded state and output batch as your Q-values\n",
    "      - Then fit your DQN model using the updated input and output batch."
   ]
  },
  {
   "cell_type": "code",
   "execution_count": 6,
   "metadata": {},
   "outputs": [],
   "source": [
    "class DQNAgent:\n",
    "    def __init__(self, state_size, action_size):\n",
    "        # Define size of state and action\n",
    "        self.state_size = state_size\n",
    "        self.action_size = action_size\n",
    "\n",
    "        # Write here: Specify you hyper parameters for the DQN\n",
    "        self.discount_factor = 0.95\n",
    "        self.learning_rate = 0.01      \n",
    "        self.epsilon = 1 #start at max value of epsilon\n",
    "        self.epsilon_decay = 0.999\n",
    "        self.epsilon_min = 0.01\n",
    "        self.batch_size = 32        \n",
    "        # create replay memory using deque\n",
    "        self.memory = deque(maxlen=2000)\n",
    "\n",
    "        # create main model and target model\n",
    "        self.model = self.build_model()\n",
    "\n",
    "    # approximate Q function using Neural Network\n",
    "    def build_model(self):\n",
    "        model = Sequential()\n",
    "        # Write your code here: Add layers to your neural nets       \n",
    "        model.add(Dense(32, input_dim=self.state_size, activation='relu', kernel_initializer='he_uniform'))\n",
    "        model.add(Dense(32, activation='relu', kernel_initializer='he_uniform'))\n",
    "        model.add(Dense(self.action_size, activation='linear', kernel_initializer='he_uniform'))\n",
    "                \n",
    "        model.compile(loss='mse',optimizer=Adam(lr=self.learning_rate))\n",
    "        print(model.summary)\n",
    "        return model\n",
    "\n",
    "\n",
    "    def get_action(self, state, env):\n",
    "        # Write your code here:\n",
    "        possible_actions_index, actions = env.requests(state)\n",
    "        # get action from model using epsilon-greedy policy\n",
    "        if np.random.rand() <= self.epsilon:\n",
    "            action = random.choice(actions) #explore\n",
    "        else:\n",
    "            encoded_state = env.state_encod_arch1(state)\n",
    "            q_values = self.model.predict(encoded_state.T)\n",
    "            # Out of all the q_values we need to pick the action from possible_actions with max q_value\n",
    "            favorable_action_index = possible_actions_index[np.argmax(q_values[0][possible_actions_index])]\n",
    "            action = env.action_space[favorable_action_index]\n",
    "        \n",
    "        return action\n",
    "        \n",
    "        \n",
    "    def append_sample(self, state, action, reward, next_state):\n",
    "        # Write your code here:\n",
    "        # save sample <s,a,r,s'> to the replay memory\n",
    "        self.memory.append((state, action, reward, next_state))           \n",
    "    \n",
    "        \n",
    "    # pick samples randomly from replay memory (with batch_size) and train the network\n",
    "    def train_model(self, env):\n",
    "        \n",
    "        if len(self.memory) > self.batch_size:\n",
    "            # Sample batch from the memory\n",
    "            mini_batch = random.sample(self.memory, self.batch_size)\n",
    "            \n",
    "            # Initialize variables for storing s, s', a and r\n",
    "            update_output = np.zeros((self.batch_size, self.action_size)) # write here\n",
    "            update_input = np.zeros((self.batch_size, self.state_size)) # write here\n",
    "            \n",
    "            actions, rewards = [], []\n",
    "            \n",
    "            for i in range(self.batch_size):\n",
    "                state, action, reward, next_state = mini_batch[i]                \n",
    "                action_index = env.action_space.index(action)\n",
    "                \n",
    "                # 1. Predict the target from earlier model\n",
    "                target = self.model.predict(env.state_encod_arch1(state).T)\n",
    "                # 2. Get the target for the Q-network\n",
    "                future_q_values = self.model.predict(env.state_encod_arch1(next_state).T)\n",
    "                                \n",
    "                #3. Update your 'update_output' and 'update_input' batch\n",
    "                update_input[i] = env.state_encod_arch1(state).flatten()\n",
    "                rewards.append(reward)\n",
    "                actions.append(action)\n",
    "                update_output[i] = target\n",
    "                \n",
    "                # Update the target value according to the update policy of Q-learning\n",
    "                # R_t + γ ∗ max Q_t(S_{t+1},a)−Q_t(S_t,a_t)\n",
    "                # Q Learning: get maximum Q value at s' from target model\n",
    "                update_output[i][action_index] = reward + self.discount_factor * (np.amax(future_q_values) - target[action_index])\n",
    "\n",
    "            # 4. Fit your model and track the loss values\n",
    "            self.model.fit(update_input, update_output, batch_size=self.batch_size,\n",
    "                           epochs=1, verbose=0)\n",
    "\n",
    "                \n",
    "                \n",
    "    def save(self, name):\n",
    "        self.model.save(name)"
   ]
  },
  {
   "cell_type": "code",
   "execution_count": 7,
   "metadata": {},
   "outputs": [
    {
     "name": "stdout",
     "output_type": "stream",
     "text": [
      "36\n",
      "<bound method Network.summary of <keras.engine.sequential.Sequential object at 0xb292b2b38>>\n",
      "(1, 3)\n",
      "6\n"
     ]
    },
    {
     "data": {
      "text/plain": [
       "((3, 18, 0), 1)"
      ]
     },
     "execution_count": 7,
     "metadata": {},
     "output_type": "execute_result"
    }
   ],
   "source": [
    "# test code \n",
    "env = CabDriver()\n",
    "_,_,state = env.reset()\n",
    "print(len(env.state_encod_arch1(state)))\n",
    "agent = DQNAgent(len(env.state_encod_arch1(state)), len(env.action_space))\n",
    "agent.epsilon = 1.10\n",
    "\n",
    "action = agent.get_action(env.state_init, env)\n",
    "print(action)\n",
    "print(env.action_space.index(action))\n",
    "env.next_state_func(state, action, Time_matrix)"
   ]
  },
  {
   "cell_type": "code",
   "execution_count": 8,
   "metadata": {},
   "outputs": [],
   "source": [
    "Episodes = 2000"
   ]
  },
  {
   "cell_type": "markdown",
   "metadata": {},
   "source": [
    "### DQN block"
   ]
  },
  {
   "cell_type": "code",
   "execution_count": 9,
   "metadata": {
    "scrolled": false
   },
   "outputs": [
    {
     "name": "stdout",
     "output_type": "stream",
     "text": [
      "<bound method Network.summary of <keras.engine.sequential.Sequential object at 0xb293b47b8>>\n",
      "episode 0, reward -452.0, memory_length 144, epsilon 0.997\n",
      "episode 25, reward -67.0, memory_length 2000, epsilon 0.9248559951318693\n",
      "episode 50, reward 64.0, memory_length 2000, epsilon 0.857932408958235\n",
      "episode 75, reward -45.0, memory_length 2000, epsilon 0.7958514863018556\n",
      "episode 100, reward 432.0, memory_length 2000, epsilon 0.7382628067611632\n",
      "episode 125, reward 78.0, memory_length 2000, epsilon 0.684841306736151\n",
      "episode 150, reward 480.0, memory_length 2000, epsilon 0.6352854445826206\n",
      "episode 175, reward 372.0, memory_length 2000, epsilon 0.5893154985378651\n",
      "episode 200, reward 446.0, memory_length 2000, epsilon 0.5466719878103016\n",
      "episode 225, reward 620.0, memory_length 2000, epsilon 0.5071142079207761\n",
      "episode 250, reward 589.0, memory_length 2000, epsilon 0.47041887202816357\n",
      "episode 275, reward 1032.0, memory_length 2000, epsilon 0.436378850570129\n",
      "episode 300, reward 1001.0, memory_length 2000, epsilon 0.4048020021048524\n",
      "episode 325, reward 1121.0, memory_length 2000, epsilon 0.37551008875431924\n",
      "episode 350, reward 953.0, memory_length 2000, epsilon 0.34833777012731426\n",
      "episode 375, reward 1311.0, memory_length 2000, epsilon 0.32313167004324317\n",
      "episode 400, reward 1300.0, memory_length 2000, epsilon 0.2997495107888329\n",
      "episode 425, reward 848.0, memory_length 2000, epsilon 0.2780593100209598\n",
      "episode 450, reward 1284.0, memory_length 2000, epsilon 0.25793863578246295\n",
      "episode 475, reward 1557.0, memory_length 2000, epsilon 0.23927391542582405\n",
      "episode 500, reward 1161.0, memory_length 2000, epsilon 0.22195979454388087\n",
      "episode 525, reward 1254.0, memory_length 2000, epsilon 0.20589854228901325\n",
      "episode 550, reward 1366.0, memory_length 2000, epsilon 0.1909994997240788\n",
      "episode 575, reward 1419.0, memory_length 2000, epsilon 0.17717856809127586\n",
      "episode 600, reward 1397.0, memory_length 2000, epsilon 0.16435773411042787\n",
      "episode 625, reward 1209.0, memory_length 2000, epsilon 0.15246462962720048\n",
      "episode 650, reward 1566.0, memory_length 2000, epsilon 0.14143212312565326\n",
      "episode 675, reward 1638.0, memory_length 2000, epsilon 0.13119794079938724\n",
      "episode 700, reward 1585.0, memory_length 2000, epsilon 0.12170431504239655\n",
      "episode 725, reward 1636.0, memory_length 2000, epsilon 0.11289765837550471\n",
      "episode 750, reward 1375.0, memory_length 2000, epsilon 0.10472826096783873\n",
      "episode 775, reward 1377.0, memory_length 2000, epsilon 0.09715001004597851\n",
      "episode 800, reward 2002.0, memory_length 2000, epsilon 0.09012012960696544\n",
      "episode 825, reward 1464.0, memory_length 2000, epsilon 0.08359893896596093\n",
      "episode 850, reward 1905.0, memory_length 2000, epsilon 0.07754962877565917\n",
      "episode 875, reward 1764.0, memory_length 2000, epsilon 0.07193805325317884\n",
      "episode 900, reward 1580.0, memory_length 2000, epsilon 0.06673253744164305\n",
      "episode 925, reward 1812.0, memory_length 2000, epsilon 0.06190369841852107\n",
      "episode 950, reward 1794.0, memory_length 2000, epsilon 0.05742427944152901\n",
      "episode 975, reward 1520.0, memory_length 2000, epsilon 0.053268996095913575\n",
      "episode 1000, reward 1839.0, memory_length 2000, epsilon 0.049414393574685855\n",
      "episode 1025, reward 1276.0, memory_length 2000, epsilon 0.04583871428621255\n",
      "episode 1050, reward 1549.0, memory_length 2000, epsilon 0.042521775041866126\n",
      "episode 1075, reward 1854.0, memory_length 2000, epsilon 0.03944485313051009\n",
      "episode 1100, reward 1788.0, memory_length 2000, epsilon 0.03659058063675861\n",
      "episode 1125, reward 1971.0, memory_length 2000, epsilon 0.03394284640648174\n",
      "episode 1150, reward 1632.0, memory_length 2000, epsilon 0.03148670510619344\n",
      "episode 1175, reward 1561.0, memory_length 2000, epsilon 0.02920829286300124\n",
      "episode 1200, reward 1956.0, memory_length 2000, epsilon 0.02709474900894091\n",
      "episode 1225, reward 1808.0, memory_length 2000, epsilon 0.02513414348797619\n",
      "episode 1250, reward 1664.0, memory_length 2000, epsilon 0.023315409515907125\n",
      "episode 1275, reward 1721.0, memory_length 2000, epsilon 0.02162828111308058\n",
      "episode 1300, reward 2026.0, memory_length 2000, epsilon 0.020063235157301847\n",
      "episode 1325, reward 1632.0, memory_length 2000, epsilon 0.018611437629860682\n",
      "episode 1350, reward 1905.0, memory_length 2000, epsilon 0.017264693751253266\n",
      "episode 1375, reward 1986.0, memory_length 2000, epsilon 0.016015401725137716\n",
      "episode 1400, reward 1951.0, memory_length 2000, epsilon 0.014856509829427171\n",
      "episode 1425, reward 1986.0, memory_length 2000, epsilon 0.013781476612318216\n",
      "episode 1450, reward 1527.0, memory_length 2000, epsilon 0.01278423396857788\n",
      "episode 1475, reward 1935.0, memory_length 2000, epsilon 0.011859152887670756\n",
      "episode 1500, reward 1771.0, memory_length 2000, epsilon 0.01100101168038888\n",
      "episode 1525, reward 1789.0, memory_length 2000, epsilon 0.010204966504637286\n",
      "episode 1550, reward 1843.0, memory_length 2000, epsilon 0.01\n",
      "episode 1575, reward 1757.0, memory_length 2000, epsilon 0.01\n",
      "episode 1600, reward 1858.0, memory_length 2000, epsilon 0.01\n",
      "episode 1625, reward 1581.0, memory_length 2000, epsilon 0.01\n",
      "episode 1650, reward 1962.0, memory_length 2000, epsilon 0.01\n",
      "episode 1675, reward 1863.0, memory_length 2000, epsilon 0.01\n",
      "episode 1700, reward 1686.0, memory_length 2000, epsilon 0.01\n",
      "episode 1725, reward 1694.0, memory_length 2000, epsilon 0.01\n",
      "episode 1750, reward 1960.0, memory_length 2000, epsilon 0.01\n",
      "episode 1775, reward 1939.0, memory_length 2000, epsilon 0.01\n",
      "episode 1800, reward 1746.0, memory_length 2000, epsilon 0.01\n",
      "episode 1825, reward 1932.0, memory_length 2000, epsilon 0.01\n",
      "episode 1850, reward 1686.0, memory_length 2000, epsilon 0.01\n",
      "episode 1875, reward 1971.0, memory_length 2000, epsilon 0.01\n",
      "episode 1900, reward 2045.0, memory_length 2000, epsilon 0.01\n",
      "episode 1925, reward 1799.0, memory_length 2000, epsilon 0.01\n",
      "episode 1950, reward 1891.0, memory_length 2000, epsilon 0.01\n",
      "episode 1975, reward 1798.0, memory_length 2000, epsilon 0.01\n"
     ]
    },
    {
     "data": {
      "text/plain": [
       "[<matplotlib.lines.Line2D at 0xb2952e8d0>]"
      ]
     },
     "execution_count": 9,
     "metadata": {},
     "output_type": "execute_result"
    },
    {
     "data": {
      "image/png": "[encoded data removed]",
      "text/plain": [
       "<matplotlib.figure.Figure at 0xb294ca8d0>"
      ]
     },
     "metadata": {},
     "output_type": "display_data"
    }
   ],
   "source": [
    "env = CabDriver()\n",
    "action_space, state_space, state = env.reset()\n",
    "state_size = len(env.state_encod_arch1(state))\n",
    "agent = DQNAgent(state_size, len(action_space))\n",
    "scores, episodes = [], []\n",
    "\n",
    "\n",
    "for episode in range(Episodes):\n",
    "\n",
    "    # Write code here\n",
    "    # Call the environment\n",
    "    env = CabDriver()\n",
    "    _, _, state = env.reset()\n",
    "    # Call all the initialised variables of the environment\n",
    "    terminal_state = False\n",
    "    hours_run = 0\n",
    "    total_reward = 0\n",
    "\n",
    "    # Call the DQN agent\n",
    "    # Every episode lasts 30 days\n",
    "    while not terminal_state:        \n",
    "        # Write your code here\n",
    "        # 1. Pick epsilon-greedy action from possible actions for the current state\n",
    "        action = agent.get_action(state, env)\n",
    "        # 2. Evaluate your reward and next state\n",
    "        reward = env.reward_func(state, action, Time_matrix)\n",
    "        next_state, trip_hours = env.next_state_func(state, action, Time_matrix)\n",
    "        # 3. Append the experience to the memory\n",
    "        agent.append_sample(state, action, reward, next_state)\n",
    "        # 4. Train the model by calling function agent.train_model\n",
    "        agent.train_model(env)\n",
    "        # 5. Keep a track of rewards, Q-values, loss\n",
    "        total_reward = total_reward + reward\n",
    "        if state in States_track.keys():\n",
    "            States_track[state].append(np.max(agent.model.predict(env.state_encod_arch1(state).T)))\n",
    "\n",
    "        state = next_state\n",
    "        hours_run = hours_run + trip_hours\n",
    "        terminal_state = (hours_run >= 24*30)\n",
    "        \n",
    "    scores.append(total_reward)\n",
    "    episodes.append(episode)\n",
    "    \n",
    "    # Decay in ε after each episode       \n",
    "    agent.epsilon = max(agent.epsilon_min, agent.epsilon * agent.epsilon_decay)\n",
    "\n",
    "\n",
    "    #save the model \n",
    "    if episode % 25 == 0:\n",
    "        #print(f\"Episode {episode} done.\")\n",
    "        print(\"episode {0}, reward {1}, memory_length {2}, epsilon {3}\".format(episode,\n",
    "                                                                         total_reward,\n",
    "                                                                         len(agent.memory),\n",
    "                                                                         agent.epsilon))\n",
    "        agent.model.save_weights(\"./dqn_arch1.h5\")\n",
    "\n",
    "        \n",
    "pylab.plot(episodes, scores, 'b')\n"
   ]
  },
  {
   "cell_type": "code",
   "execution_count": null,
   "metadata": {},
   "outputs": [],
   "source": []
  },
  {
   "cell_type": "code",
   "execution_count": null,
   "metadata": {},
   "outputs": [],
   "source": []
  },
  {
   "cell_type": "markdown",
   "metadata": {},
   "source": [
    "### Tracking Convergence"
   ]
  },
  {
   "cell_type": "code",
   "execution_count": 10,
   "metadata": {},
   "outputs": [
    {
     "data": {
      "image/png": "[encoded data removed]",
      "text/plain": [
       "<matplotlib.figure.Figure at 0xb297d1630>"
      ]
     },
     "metadata": {},
     "output_type": "display_data"
    }
   ],
   "source": [
    "aKey = list(States_track.keys())[0]\n",
    "qvals = States_track[aKey]\n",
    "time = range(0, len(qvals))\n",
    "plt.plot(time, qvals)\n",
    "plt.show()"
   ]
  },
  {
   "cell_type": "code",
   "execution_count": null,
   "metadata": {},
   "outputs": [],
   "source": []
  },
  {
   "cell_type": "code",
   "execution_count": null,
   "metadata": {},
   "outputs": [],
   "source": []
  },
  {
   "cell_type": "markdown",
   "metadata": {},
   "source": [
    "#### Epsilon-decay sample function"
   ]
  },
  {
   "cell_type": "markdown",
   "metadata": {},
   "source": [
    "<div class=\"alert alert-block alert-info\">\n",
    "Try building a similar epsilon-decay function for your model.\n",
    "</div>"
   ]
  },
  {
   "cell_type": "code",
   "execution_count": 11,
   "metadata": {},
   "outputs": [],
   "source": [
    "time = np.arange(0,10000)\n",
    "epsilon = [1]\n",
    "for i in range(1,10000):\n",
    "    # epsilon.append(0 + (1 - 0) * np.exp(-0.0009*i))\n",
    "    epsilon.append(epsilon[i-1]*0.999)"
   ]
  },
  {
   "cell_type": "code",
   "execution_count": 12,
   "metadata": {},
   "outputs": [
    {
     "data": {
      "image/png": "[encoded data removed]",
      "text/plain": [
       "<matplotlib.figure.Figure at 0xb2946fc50>"
      ]
     },
     "metadata": {},
     "output_type": "display_data"
    }
   ],
   "source": [
    "plt.plot(time, epsilon)\n",
    "plt.show()"
   ]
  },
  {
   "cell_type": "code",
   "execution_count": null,
   "metadata": {},
   "outputs": [],
   "source": []
  }
 ],
 "metadata": {
  "kernelspec": {
   "display_name": "Python 3",
   "language": "python",
   "name": "python3"
  },
  "language_info": {
   "codemirror_mode": {
    "name": "ipython",
    "version": 3
   },
   "file_extension": ".py",
   "mimetype": "text/x-python",
   "name": "python",
   "nbconvert_exporter": "python",
   "pygments_lexer": "ipython3",
   "version": "3.6.8"
  }
 },
 "nbformat": 4,
 "nbformat_minor": 2
}
