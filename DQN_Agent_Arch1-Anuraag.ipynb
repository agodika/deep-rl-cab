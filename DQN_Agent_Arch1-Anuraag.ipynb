{
 "cells": [
  {
   "cell_type": "markdown",
   "metadata": {},
   "source": [
    "### Cab-Driver Agent"
   ]
  },
  {
   "cell_type": "code",
   "execution_count": 1,
   "metadata": {},
   "outputs": [
    {
     "name": "stderr",
     "output_type": "stream",
     "text": [
      "/anaconda3/lib/python3.6/site-packages/h5py/__init__.py:36: FutureWarning: Conversion of the second argument of issubdtype from `float` to `np.floating` is deprecated. In future, it will be treated as `np.float64 == np.dtype(float).type`.\n",
      "  from ._conv import register_converters as _register_converters\n",
      "Using TensorFlow backend.\n"
     ]
    }
   ],
   "source": [
    "# Importing libraries\n",
    "import numpy as np\n",
    "import random\n",
    "import math\n",
    "from collections import deque\n",
    "import collections\n",
    "import pickle\n",
    "import pylab\n",
    "\n",
    "# for building DQN model\n",
    "from keras import layers\n",
    "from keras import Sequential\n",
    "from keras.layers import Dense, Activation, Flatten\n",
    "from keras.optimizers import Adam\n",
    "\n",
    "# for plotting graphs\n",
    "import matplotlib.pyplot as plt\n",
    "\n",
    "# Import the environment\n",
    "from Env import CabDriver"
   ]
  },
  {
   "cell_type": "markdown",
   "metadata": {},
   "source": [
    "#### Defining Time Matrix"
   ]
  },
  {
   "cell_type": "code",
   "execution_count": 2,
   "metadata": {},
   "outputs": [],
   "source": [
    "# Loading the time matrix provided\n",
    "Time_matrix = np.load(\"TM.npy\")"
   ]
  },
  {
   "cell_type": "markdown",
   "metadata": {},
   "source": [
    "#### Tracking the state-action pairs for checking convergence\n"
   ]
  },
  {
   "cell_type": "code",
   "execution_count": 3,
   "metadata": {},
   "outputs": [],
   "source": [
    "States_track = {}\n",
    "\n",
    "# Initialise states to be tracked\n",
    "def initialise_tracking_states():\n",
    "    env = CabDriver()\n",
    "    action_space, state_space, _ = env.reset()\n",
    "    states_to_track = random.sample(state_space, k=5)\n",
    "    for state in states_to_track: \n",
    "        States_track[state] = []\n"
   ]
  },
  {
   "cell_type": "code",
   "execution_count": 4,
   "metadata": {},
   "outputs": [
    {
     "data": {
      "text/plain": [
       "{(4, 6, 1): [], (2, 10, 4): [], (3, 9, 0): [], (3, 8, 6): [], (0, 12, 2): []}"
      ]
     },
     "execution_count": 4,
     "metadata": {},
     "output_type": "execute_result"
    }
   ],
   "source": [
    "initialise_tracking_states()\n",
    "States_track"
   ]
  },
  {
   "cell_type": "code",
   "execution_count": null,
   "metadata": {},
   "outputs": [],
   "source": []
  },
  {
   "cell_type": "code",
   "execution_count": 5,
   "metadata": {},
   "outputs": [],
   "source": [
    "#Defining a function to save the Q-dictionary as a pickle file\n",
    "def save_obj(obj, name ):\n",
    "    with open(name + '.pkl', 'wb') as f:\n",
    "        pickle.dump(obj, f, pickle.HIGHEST_PROTOCOL)"
   ]
  },
  {
   "cell_type": "markdown",
   "metadata": {},
   "source": [
    "### Agent Class\n",
    "\n",
    "If you are using this framework, you need to fill the following to complete the following code block:\n",
    "1. State and Action Size\n",
    "2. Hyperparameters\n",
    "3. Create a neural-network model in function 'build_model()'\n",
    "4. Define epsilon-greedy strategy in function 'get_action()'\n",
    "5. Complete the function 'append_sample()'. This function appends the recent experience tuple <state, action, reward, new-state> to the memory\n",
    "6. Complete the 'train_model()' function with following logic:\n",
    "   - If the memory size is greater than mini-batch size, you randomly sample experiences from memory as per the mini-batch size and do the following:\n",
    "      - Initialise your input and output batch for training the model\n",
    "      - Calculate the target Q value for each sample: reward + gamma*max(Q(s'a,))\n",
    "      - Get Q(s', a) values from the last trained model\n",
    "      - Update the input batch as your encoded state and output batch as your Q-values\n",
    "      - Then fit your DQN model using the updated input and output batch."
   ]
  },
  {
   "cell_type": "code",
   "execution_count": 6,
   "metadata": {},
   "outputs": [],
   "source": [
    "class DQNAgent:\n",
    "    def __init__(self, state_size, action_size):\n",
    "        # Define size of state and action\n",
    "        self.state_size = state_size\n",
    "        self.action_size = action_size\n",
    "\n",
    "        # Write here: Specify you hyper parameters for the DQN\n",
    "        self.discount_factor = 0.95\n",
    "        self.learning_rate = 0.01      \n",
    "        self.epsilon = 1 #start at max value of epsilon\n",
    "        self.epsilon_decay = 0.998\n",
    "        self.epsilon_min = 0.01\n",
    "        self.batch_size = 32        \n",
    "        # create replay memory using deque\n",
    "        self.memory = deque(maxlen=2000)\n",
    "\n",
    "        # create main model and target model\n",
    "        self.model = self.build_model()\n",
    "\n",
    "    # approximate Q function using Neural Network\n",
    "    def build_model(self):\n",
    "        model = Sequential()\n",
    "        # Write your code here: Add layers to your neural nets       \n",
    "        model.add(Dense(32, input_dim=self.state_size, activation='relu', kernel_initializer='he_uniform'))\n",
    "        model.add(Dense(32, activation='relu', kernel_initializer='he_uniform'))\n",
    "        model.add(Dense(self.action_size, activation='linear', kernel_initializer='he_uniform'))\n",
    "                \n",
    "        model.compile(loss='mse',optimizer=Adam(lr=self.learning_rate))\n",
    "        print(model.summary)\n",
    "        return model\n",
    "\n",
    "\n",
    "    def get_action(self, state, env):\n",
    "        # Write your code here:\n",
    "        possible_actions_index, actions = env.requests(state)\n",
    "        # get action from model using epsilon-greedy policy\n",
    "        if np.random.rand() <= self.epsilon:\n",
    "            action = random.choice(actions) #explore\n",
    "        else:\n",
    "            encoded_state = env.state_encod_arch1(state)\n",
    "            q_values = self.model.predict(encoded_state.T)\n",
    "            # Out of all the q_values we need to pick the action from possible_actions with max q_value\n",
    "            favorable_action_index = possible_actions_index[np.argmax(q_values[0][possible_actions_index])]\n",
    "            action = env.action_space[favorable_action_index]\n",
    "        \n",
    "        return action\n",
    "        \n",
    "        \n",
    "    def append_sample(self, state, action, reward, next_state):\n",
    "        # Write your code here:\n",
    "        # save sample <s,a,r,s'> to the replay memory\n",
    "        self.memory.append((state, action, reward, next_state))           \n",
    "    \n",
    "        \n",
    "    # pick samples randomly from replay memory (with batch_size) and train the network\n",
    "    def train_model(self, env):\n",
    "        \n",
    "        if len(self.memory) > self.batch_size:\n",
    "            # Sample batch from the memory\n",
    "            mini_batch = random.sample(self.memory, self.batch_size)\n",
    "            \n",
    "            # Initialize variables for storing s, s', a and r\n",
    "            update_output = np.zeros((self.batch_size, self.action_size)) # write here\n",
    "            update_input = np.zeros((self.batch_size, self.state_size)) # write here\n",
    "            \n",
    "            actions, rewards = [], []\n",
    "            \n",
    "            for i in range(self.batch_size):\n",
    "                state, action, reward, next_state = mini_batch[i]                \n",
    "                action_index = env.action_space.index(action)\n",
    "                \n",
    "                # 1. Predict the target from earlier model\n",
    "                target = self.model.predict(env.state_encod_arch1(state).T)\n",
    "                # 2. Get the target for the Q-network\n",
    "                future_q_values = self.model.predict(env.state_encod_arch1(next_state).T)\n",
    "                                \n",
    "                #3. Update your 'update_output' and 'update_input' batch\n",
    "                update_input[i] = env.state_encod_arch1(state).flatten()\n",
    "                rewards.append(reward)\n",
    "                actions.append(action)\n",
    "                update_output[i] = target\n",
    "                \n",
    "                # Update the target value according to the update policy of Q-learning\n",
    "                # R_t + γ ∗ max Q_t(S_{t+1},a)−Q_t(S_t,a_t)\n",
    "                # Q Learning: get maximum Q value at s' from target model\n",
    "                update_output[i][action_index] = reward + self.discount_factor * np.amax(future_q_values)\n",
    "\n",
    "            # 4. Fit your model and track the loss values\n",
    "            self.model.fit(update_input, update_output, batch_size=self.batch_size,\n",
    "                           epochs=1, verbose=0)\n",
    "\n",
    "                \n",
    "                \n",
    "    def save(self, name):\n",
    "        self.model.save(name)"
   ]
  },
  {
   "cell_type": "code",
   "execution_count": 7,
   "metadata": {},
   "outputs": [
    {
     "name": "stdout",
     "output_type": "stream",
     "text": [
      "36\n",
      "<bound method Network.summary of <keras.engine.sequential.Sequential object at 0xb26762550>>\n",
      "(0, 0)\n",
      "20\n"
     ]
    },
    {
     "data": {
      "text/plain": [
       "((1, 11, 3), 1)"
      ]
     },
     "execution_count": 7,
     "metadata": {},
     "output_type": "execute_result"
    }
   ],
   "source": [
    "# test code \n",
    "env = CabDriver()\n",
    "_,_,state = env.reset()\n",
    "print(len(env.state_encod_arch1(state)))\n",
    "agent = DQNAgent(len(env.state_encod_arch1(state)), len(env.action_space))\n",
    "agent.epsilon = 1.10\n",
    "\n",
    "action = agent.get_action(env.state_init, env)\n",
    "print(action)\n",
    "print(env.action_space.index(action))\n",
    "env.next_state_func(state, action, Time_matrix)"
   ]
  },
  {
   "cell_type": "code",
   "execution_count": 8,
   "metadata": {},
   "outputs": [],
   "source": [
    "Episodes = 2000"
   ]
  },
  {
   "cell_type": "markdown",
   "metadata": {},
   "source": [
    "### DQN block"
   ]
  },
  {
   "cell_type": "code",
   "execution_count": 9,
   "metadata": {
    "scrolled": false
   },
   "outputs": [
    {
     "name": "stdout",
     "output_type": "stream",
     "text": [
      "<bound method Network.summary of <keras.engine.sequential.Sequential object at 0xb268797b8>>\n",
      "episode 0, reward -236.0, memory_length 150, epsilon 0.998\n",
      "episode 25, reward 262.0, memory_length 2000, epsilon 0.9492794371096911\n",
      "episode 50, reward -194.0, memory_length 2000, epsilon 0.9029373243680279\n",
      "episode 75, reward -9.0, memory_length 2000, epsilon 0.8588575501216553\n",
      "episode 100, reward 461.0, memory_length 2000, epsilon 0.8169296710790511\n",
      "episode 125, reward -9.0, memory_length 2000, epsilon 0.7770486355913092\n",
      "episode 150, reward 354.0, memory_length 2000, epsilon 0.7391145204418551\n",
      "episode 175, reward 586.0, memory_length 2000, epsilon 0.7030322804856147\n",
      "episode 200, reward 387.0, memory_length 2000, epsilon 0.6687115105103473\n",
      "episode 225, reward 116.0, memory_length 2000, epsilon 0.6360662187234805\n",
      "episode 250, reward 531.0, memory_length 2000, epsilon 0.6050146112969089\n",
      "episode 275, reward 301.0, memory_length 2000, epsilon 0.5754788874299281\n",
      "episode 300, reward 747.0, memory_length 2000, epsilon 0.5473850444168268\n",
      "episode 325, reward 538.0, memory_length 2000, epsilon 0.52066269223073\n",
      "episode 350, reward 661.0, memory_length 2000, epsilon 0.49524487715912174\n",
      "episode 375, reward 863.0, memory_length 2000, epsilon 0.4710679140491676\n",
      "episode 400, reward 501.0, memory_length 2000, epsilon 0.448071226742515\n",
      "episode 425, reward 999.0, memory_length 2000, epsilon 0.42619719629978287\n",
      "episode 450, reward 1092.0, memory_length 2000, epsilon 0.40539101663445526\n",
      "episode 475, reward 1008.0, memory_length 2000, epsilon 0.38560055719447006\n",
      "episode 500, reward 1223.0, memory_length 2000, epsilon 0.36677623234744455\n",
      "episode 525, reward 1031.0, memory_length 2000, epsilon 0.3488708771422798\n",
      "episode 550, reward 1224.0, memory_length 2000, epsilon 0.3318396291358591\n",
      "episode 575, reward 1291.0, memory_length 2000, epsilon 0.3156398159887544\n",
      "episode 600, reward 1155.0, memory_length 2000, epsilon 0.3002308485483078\n",
      "episode 625, reward 1200.0, memory_length 2000, epsilon 0.2855741191512049\n",
      "episode 650, reward 1520.0, memory_length 2000, epsilon 0.2716329048907331\n",
      "episode 675, reward 1341.0, memory_length 2000, epsilon 0.25837227560635795\n",
      "episode 700, reward 828.0, memory_length 2000, epsilon 0.24575900636508355\n",
      "episode 725, reward 1580.0, memory_length 2000, epsilon 0.23376149421531414\n",
      "episode 750, reward 1241.0, memory_length 2000, epsilon 0.2223496790046429\n",
      "episode 775, reward 1388.0, memory_length 2000, epsilon 0.21149496806317422\n",
      "episode 800, reward 1095.0, memory_length 2000, epsilon 0.20117016456366946\n",
      "episode 825, reward 1261.0, memory_length 2000, epsilon 0.19134939937902207\n",
      "episode 850, reward 1313.0, memory_length 2000, epsilon 0.18200806626632815\n",
      "episode 875, reward 1358.0, memory_length 2000, epsilon 0.1731227602151536\n",
      "episode 900, reward 1365.0, memory_length 2000, epsilon 0.16467121880552807\n",
      "episode 925, reward 1531.0, memory_length 2000, epsilon 0.1566322664287359\n",
      "episode 950, reward 1408.0, memory_length 2000, epsilon 0.14898576123114782\n",
      "episode 975, reward 1281.0, memory_length 2000, epsilon 0.14171254464815908\n",
      "episode 1000, reward 1732.0, memory_length 2000, epsilon 0.13479439340178997\n",
      "episode 1025, reward 1260.0, memory_length 2000, epsilon 0.12821397384167682\n",
      "episode 1050, reward 1392.0, memory_length 2000, epsilon 0.12195479851505375\n",
      "episode 1075, reward 1749.0, memory_length 2000, epsilon 0.11600118485690984\n",
      "episode 1100, reward 1492.0, memory_length 2000, epsilon 0.11033821589681822\n",
      "episode 1125, reward 1660.0, memory_length 2000, epsilon 0.1049517028839871\n",
      "episode 1150, reward 1601.0, memory_length 2000, epsilon 0.09982814973688857\n",
      "episode 1175, reward 1655.0, memory_length 2000, epsilon 0.0949547192283923\n",
      "episode 1200, reward 1543.0, memory_length 2000, epsilon 0.09031920082168032\n",
      "episode 1225, reward 1591.0, memory_length 2000, epsilon 0.08590998007635452\n",
      "episode 1250, reward 1628.0, memory_length 2000, epsilon 0.08171600954808274\n",
      "episode 1275, reward 1430.0, memory_length 2000, epsilon 0.07772678110887182\n",
      "episode 1300, reward 1895.0, memory_length 2000, epsilon 0.0739322996186152\n",
      "episode 1325, reward 1466.0, memory_length 2000, epsilon 0.070323057881948\n",
      "episode 1350, reward 1435.0, memory_length 2000, epsilon 0.06689001282766313\n",
      "episode 1375, reward 1832.0, memory_length 2000, epsilon 0.06362456285100608\n",
      "episode 1400, reward 1707.0, memory_length 2000, epsilon 0.06051852626207736\n",
      "episode 1425, reward 1888.0, memory_length 2000, epsilon 0.05756412078634554\n",
      "episode 1450, reward 1573.0, memory_length 2000, epsilon 0.054753944065908174\n",
      "episode 1475, reward 1495.0, memory_length 2000, epsilon 0.05208095511264611\n",
      "episode 1500, reward 1885.0, memory_length 2000, epsilon 0.04953845666680137\n",
      "episode 1525, reward 1647.0, memory_length 2000, epsilon 0.04712007841677759\n",
      "episode 1550, reward 1530.0, memory_length 2000, epsilon 0.044819761038119355\n",
      "episode 1575, reward 1922.0, memory_length 2000, epsilon 0.042631741011680144\n",
      "episode 1600, reward 1776.0, memory_length 2000, epsilon 0.04055053618293973\n",
      "episode 1625, reward 1795.0, memory_length 2000, epsilon 0.03857093202628976\n",
      "episode 1650, reward 1934.0, memory_length 2000, epsilon 0.03668796857987223\n",
      "episode 1675, reward 1623.0, memory_length 2000, epsilon 0.034896928018235615\n",
      "episode 1700, reward 1701.0, memory_length 2000, epsilon 0.03319332283167145\n",
      "episode 1725, reward 1514.0, memory_length 2000, epsilon 0.03157288458261455\n",
      "episode 1750, reward 1623.0, memory_length 2000, epsilon 0.030031553210935435\n",
      "episode 1775, reward 1857.0, memory_length 2000, epsilon 0.028565466861329183\n",
      "episode 1800, reward 1602.0, memory_length 2000, epsilon 0.02717095220731272\n",
      "episode 1825, reward 1644.0, memory_length 2000, epsilon 0.02584451524758731\n",
      "episode 1850, reward 1687.0, memory_length 2000, epsilon 0.02458283255170592\n",
      "episode 1875, reward 1900.0, memory_length 2000, epsilon 0.023382742933111413\n",
      "episode 1900, reward 1775.0, memory_length 2000, epsilon 0.022241239528681966\n",
      "episode 1925, reward 1732.0, memory_length 2000, epsilon 0.021155462264938897\n",
      "episode 1950, reward 1747.0, memory_length 2000, epsilon 0.020122690692040587\n",
      "episode 1975, reward 1611.0, memory_length 2000, epsilon 0.019140337167607924\n"
     ]
    },
    {
     "data": {
      "text/plain": [
       "[<matplotlib.lines.Line2D at 0xb269cae80>]"
      ]
     },
     "execution_count": 9,
     "metadata": {},
     "output_type": "execute_result"
    },
    {
     "data": {
      "image/png": "[encoded data removed]",
      "text/plain": [
       "<matplotlib.figure.Figure at 0xb26879828>"
      ]
     },
     "metadata": {},
     "output_type": "display_data"
    }
   ],
   "source": [
    "env = CabDriver()\n",
    "action_space, state_space, state = env.reset()\n",
    "state_size = len(env.state_encod_arch1(state))\n",
    "agent = DQNAgent(state_size, len(action_space))\n",
    "scores, episodes = [], []\n",
    "\n",
    "\n",
    "for episode in range(Episodes):\n",
    "\n",
    "    # Write code here\n",
    "    # Call the environment\n",
    "    env = CabDriver()\n",
    "    _, _, state = env.reset()\n",
    "    # Call all the initialised variables of the environment\n",
    "    terminal_state = False\n",
    "    hours_run = 0\n",
    "    total_reward = 0\n",
    "\n",
    "    # Call the DQN agent\n",
    "    # Every episode lasts 30 days\n",
    "    while not terminal_state:        \n",
    "        # Write your code here\n",
    "        # 1. Pick epsilon-greedy action from possible actions for the current state\n",
    "        action = agent.get_action(state, env)\n",
    "        # 2. Evaluate your reward and next state\n",
    "        reward = env.reward_func(state, action, Time_matrix)\n",
    "        next_state, trip_hours = env.next_state_func(state, action, Time_matrix)\n",
    "        # 3. Append the experience to the memory\n",
    "        agent.append_sample(state, action, reward, next_state)\n",
    "        # 4. Train the model by calling function agent.train_model\n",
    "        agent.train_model(env)\n",
    "        # 5. Keep a track of rewards, Q-values, loss\n",
    "        total_reward = total_reward + reward\n",
    "        if state in States_track.keys():\n",
    "            States_track[state].append(np.max(agent.model.predict(env.state_encod_arch1(state).T)))\n",
    "\n",
    "        state = next_state\n",
    "        hours_run = hours_run + trip_hours\n",
    "        terminal_state = (hours_run >= 24*30)\n",
    "        \n",
    "    scores.append(total_reward)\n",
    "    episodes.append(episode)\n",
    "    \n",
    "    # Decay in ε after each episode       \n",
    "    agent.epsilon = max(agent.epsilon_min, agent.epsilon * agent.epsilon_decay)\n",
    "\n",
    "\n",
    "    #save the model \n",
    "    if episode % 25 == 0:\n",
    "        #print(f\"Episode {episode} done.\")\n",
    "        print(\"episode {0}, reward {1}, memory_length {2}, epsilon {3}\".format(episode,\n",
    "                                                                         total_reward,\n",
    "                                                                         len(agent.memory),\n",
    "                                                                         agent.epsilon))\n",
    "        agent.model.save_weights(\"./dqn_arch1.h5\")\n",
    "\n",
    "        \n",
    "pylab.plot(episodes, scores, 'b')\n"
   ]
  },
  {
   "cell_type": "code",
   "execution_count": null,
   "metadata": {},
   "outputs": [],
   "source": []
  },
  {
   "cell_type": "code",
   "execution_count": null,
   "metadata": {},
   "outputs": [],
   "source": []
  },
  {
   "cell_type": "markdown",
   "metadata": {},
   "source": [
    "### Tracking Convergence"
   ]
  },
  {
   "cell_type": "code",
   "execution_count": 10,
   "metadata": {},
   "outputs": [
    {
     "data": {
      "image/png": "[encoded data removed]",
      "text/plain": [
       "<matplotlib.figure.Figure at 0xb2698f940>"
      ]
     },
     "metadata": {},
     "output_type": "display_data"
    }
   ],
   "source": [
    "aKey = list(States_track.keys())[0]\n",
    "qvals = States_track[aKey]\n",
    "time = range(0, len(qvals))\n",
    "plt.plot(time, qvals)\n",
    "plt.show()"
   ]
  },
  {
   "cell_type": "code",
   "execution_count": null,
   "metadata": {},
   "outputs": [],
   "source": []
  },
  {
   "cell_type": "code",
   "execution_count": null,
   "metadata": {},
   "outputs": [],
   "source": []
  },
  {
   "cell_type": "markdown",
   "metadata": {},
   "source": [
    "#### Epsilon-decay sample function"
   ]
  },
  {
   "cell_type": "markdown",
   "metadata": {},
   "source": [
    "<div class=\"alert alert-block alert-info\">\n",
    "Try building a similar epsilon-decay function for your model.\n",
    "</div>"
   ]
  },
  {
   "cell_type": "code",
   "execution_count": 11,
   "metadata": {},
   "outputs": [],
   "source": [
    "time = np.arange(0,10000)\n",
    "epsilon = [1]\n",
    "for i in range(1,10000):\n",
    "    # epsilon.append(0 + (1 - 0) * np.exp(-0.0009*i))\n",
    "    epsilon.append(epsilon[i-1]*0.998)"
   ]
  },
  {
   "cell_type": "code",
   "execution_count": 12,
   "metadata": {},
   "outputs": [
    {
     "data": {
      "image/png": "[encoded data removed]",
      "text/plain": [
       "<matplotlib.figure.Figure at 0xb26947278>"
      ]
     },
     "metadata": {},
     "output_type": "display_data"
    }
   ],
   "source": [
    "plt.plot(time, epsilon)\n",
    "plt.show()"
   ]
  },
  {
   "cell_type": "code",
   "execution_count": null,
   "metadata": {},
   "outputs": [],
   "source": []
  }
 ],
 "metadata": {
  "kernelspec": {
   "display_name": "Python 3",
   "language": "python",
   "name": "python3"
  },
  "language_info": {
   "codemirror_mode": {
    "name": "ipython",
    "version": 3
   },
   "file_extension": ".py",
   "mimetype": "text/x-python",
   "name": "python",
   "nbconvert_exporter": "python",
   "pygments_lexer": "ipython3",
   "version": "3.6.8"
  }
 },
 "nbformat": 4,
 "nbformat_minor": 2
}
